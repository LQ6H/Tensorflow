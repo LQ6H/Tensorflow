{
 "cells": [
  {
   "cell_type": "markdown",
   "metadata": {},
   "source": [
    "# 一.张量\n",
    "Tensor是Tensorflow中最基础，最重要的数据结构，常翻译为张量，是管理数据的一种形式\n",
    "## 1.张量的定义\n",
    "所谓张量，可以理解为n维数组或者矩阵，Tensorflow提供函数："
   ]
  },
  {
   "cell_type": "code",
   "execution_count": null,
   "metadata": {
    "collapsed": true
   },
   "outputs": [],
   "source": [
    "constant(value,dtype=None,shape=None,name=\"Const\",verify_shape=False)"
   ]
  },
  {
   "cell_type": "markdown",
   "metadata": {},
   "source": [
    "## 2.Tensor与Numpy的ndarray转换\n",
    "#### Tensor转换为ndarray"
   ]
  },
  {
   "cell_type": "code",
   "execution_count": 1,
   "metadata": {},
   "outputs": [
    {
     "ename": "ModuleNotFoundError",
     "evalue": "No module named 'tensorflow'",
     "output_type": "error",
     "traceback": [
      "\u001b[1;31m---------------------------------------------------------------------------\u001b[0m",
      "\u001b[1;31mModuleNotFoundError\u001b[0m                       Traceback (most recent call last)",
      "\u001b[1;32m<ipython-input-1-d67de55aa923>\u001b[0m in \u001b[0;36m<module>\u001b[1;34m\u001b[0m\n\u001b[0;32m      3\u001b[0m \u001b[1;31m# Author LQ6H\u001b[0m\u001b[1;33m\u001b[0m\u001b[1;33m\u001b[0m\u001b[1;33m\u001b[0m\u001b[0m\n\u001b[0;32m      4\u001b[0m \u001b[1;33m\u001b[0m\u001b[0m\n\u001b[1;32m----> 5\u001b[1;33m \u001b[1;32mimport\u001b[0m \u001b[0mtensorflow\u001b[0m \u001b[1;32mas\u001b[0m \u001b[0mtf\u001b[0m\u001b[1;33m\u001b[0m\u001b[1;33m\u001b[0m\u001b[0m\n\u001b[0m\u001b[0;32m      6\u001b[0m \u001b[1;33m\u001b[0m\u001b[0m\n\u001b[0;32m      7\u001b[0m \u001b[0mt\u001b[0m\u001b[1;33m=\u001b[0m\u001b[0mtf\u001b[0m\u001b[1;33m.\u001b[0m\u001b[0mconstant\u001b[0m\u001b[1;33m(\u001b[0m\u001b[1;33m[\u001b[0m\u001b[1;36m1\u001b[0m\u001b[1;33m,\u001b[0m\u001b[1;36m2\u001b[0m\u001b[1;33m,\u001b[0m\u001b[1;36m3\u001b[0m\u001b[1;33m]\u001b[0m\u001b[1;33m,\u001b[0m\u001b[0mtf\u001b[0m\u001b[1;33m.\u001b[0m\u001b[0mfloat32\u001b[0m\u001b[1;33m)\u001b[0m\u001b[1;33m\u001b[0m\u001b[1;33m\u001b[0m\u001b[0m\n",
      "\u001b[1;31mModuleNotFoundError\u001b[0m: No module named 'tensorflow'"
     ]
    }
   ],
   "source": [
    "#!/usr/bin/env python3\n",
    "# -*- coding:utf-8 -*-\n",
    "# Author LQ6H\n",
    "\n",
    "import tensorflow as tf\n",
    "\n",
    "t=tf.constant([1,2,3],tf.float32)\n",
    "\n",
    "session=tf.Session()\n",
    "\n",
    "array=session.run(t)\n",
    "\n",
    "print(type(array))\n",
    "print(array)"
   ]
  },
  {
   "cell_type": "markdown",
   "metadata": {},
   "source": [
    "也可以先创建会话，然后利用Tensor的成员函数eval，将Tensor转换为ndarray，代码如下;"
   ]
  },
  {
   "cell_type": "code",
   "execution_count": null,
   "metadata": {
    "collapsed": true
   },
   "outputs": [],
   "source": [
    "session=tf.Session()\n",
    "array=t.eval(session=session)\n",
    "print(array)"
   ]
  },
  {
   "cell_type": "markdown",
   "metadata": {},
   "source": [
    "以上代码的另一种写法如下："
   ]
  },
  {
   "cell_type": "code",
   "execution_count": null,
   "metadata": {
    "collapsed": true
   },
   "outputs": [],
   "source": [
    "with tf.Session() as session:\n",
    "    array=t.eval()\n",
    "    print(array)"
   ]
  },
  {
   "cell_type": "markdown",
   "metadata": {
    "collapsed": true
   },
   "source": [
    "#### ndarray 转换为 Tensor"
   ]
  },
  {
   "cell_type": "code",
   "execution_count": 1,
   "metadata": {},
   "outputs": [
    {
     "name": "stdout",
     "output_type": "stream",
     "text": [
      "Tensor(\"t:0\", shape=(3,), dtype=float32)\n"
     ]
    }
   ],
   "source": [
    "#!/usr/bin/env python3\n",
    "# -*- coding:utf-8 -*-\n",
    "# Author LQ6H\n",
    "\n",
    "import tensorflow as tf\n",
    "import numpy as np\n",
    "\n",
    "array=np.array([1,2,3],np.float32)\n",
    "\n",
    "t=tf.convert_to_tensor(array,tf.float32,name=\"t\")\n",
    "\n",
    "print(t)"
   ]
  },
  {
   "cell_type": "markdown",
   "metadata": {
    "collapsed": true
   },
   "source": [
    "### 3.张量的尺寸\n",
    "张量的尺寸，又称张量的形状"
   ]
  },
  {
   "cell_type": "code",
   "execution_count": 2,
   "metadata": {},
   "outputs": [
    {
     "name": "stdout",
     "output_type": "stream",
     "text": [
      "张量的形状： [2 3]\n"
     ]
    }
   ],
   "source": [
    "#!/usr/bin/env python3\n",
    "# -*- coding:utf-8 -*-\n",
    "# Author LQ6H\n",
    "\n",
    "import tensorflow as tf\n",
    "\n",
    "t=tf.constant(\n",
    "    [\n",
    "        [1,2,3],\n",
    "        [4,5,6]\n",
    "    ]\n",
    "    ,tf.float32\n",
    ")\n",
    "\n",
    "session=tf.Session()\n",
    "\n",
    "s=tf.shape(t)\n",
    "print(\"张量的形状：\",session.run(s))"
   ]
  },
  {
   "cell_type": "markdown",
   "metadata": {},
   "source": [
    "利用成员函数get_shape()或者成员变量shape得到张量的尺寸"
   ]
  },
  {
   "cell_type": "code",
   "execution_count": 3,
   "metadata": {},
   "outputs": [
    {
     "name": "stdout",
     "output_type": "stream",
     "text": [
      "s的值： (2, 3)\n",
      "<class 'tensorflow.python.framework.tensor_shape.TensorShape'>\n",
      "s[0]的值： 2\n",
      "s[0]的数据结构类型： <class 'tensorflow.python.framework.tensor_shape.Dimension'>\n",
      "将s[0]的值转换为整数型：\n",
      "2\n",
      "<class 'int'>\n"
     ]
    }
   ],
   "source": [
    "#!/usr/bin/env python3\n",
    "# -*- coding:utf-8 -*-\n",
    "# Author LQ6H\n",
    "\n",
    "import tensorflow as tf\n",
    "\n",
    "t=tf.constant(\n",
    "    [\n",
    "        [1,2,3],\n",
    "        [4,5,6]\n",
    "    ],\n",
    "    tf.float32\n",
    ")\n",
    "\n",
    "s=t.get_shape()\n",
    "\n",
    "print(\"s的值：\",s)\n",
    "print(type(s))\n",
    "\n",
    "print(\"s[0]的值：\",s[0])\n",
    "print(\"s[0]的数据结构类型：\",type(s[0]))\n",
    "\n",
    "print(\"将s[0]的值转换为整数型：\")\n",
    "print(s[0].value)\n",
    "print(type(s[0].value))"
   ]
  },
  {
   "cell_type": "markdown",
   "metadata": {},
   "source": [
    "## 4.图像转换为张量"
   ]
  },
  {
   "cell_type": "code",
   "execution_count": 6,
   "metadata": {},
   "outputs": [
    {
     "name": "stdout",
     "output_type": "stream",
     "text": [
      "图像的形状： [180 180   3]\n"
     ]
    },
    {
     "data": {
      "image/png": "[encoded data removed]",
      "text/plain": [
       "<Figure size 432x288 with 1 Axes>"
      ]
     },
     "metadata": {},
     "output_type": "display_data"
    }
   ],
   "source": [
    "#!/usr/bin/env python3\n",
    "# -*- coding:utf-8 -*-\n",
    "# Author LQ6H\n",
    "\n",
    "import tensorflow as tf\n",
    "import matplotlib.pyplot as plt\n",
    "\n",
    "image=tf.read_file(\"LQ6H.png\",\"r\")\n",
    "\n",
    "image_tensor=tf.image.decode_jpeg(image)\n",
    "\n",
    "shape=tf.shape(image_tensor)\n",
    "\n",
    "session=tf.Session()\n",
    "\n",
    "print(\"图像的形状：\",session.run(shape))\n",
    "\n",
    "image_ndarray=image_tensor.eval(session=session)\n",
    "\n",
    "plt.imshow(image_ndarray)\n",
    "plt.show()"
   ]
  },
  {
   "cell_type": "markdown",
   "metadata": {},
   "source": [
    "# 二.随机数\n",
    "Tensorflow提供了很多产生不同概率分布的随机数的函数，如产生均匀分布随机数的函数random_uniform，产生正态分布随机数的函数random_norm，产生泊松分布随机数和正态分布随机数\n",
    "## 1.平均分布随机数"
   ]
  },
  {
   "cell_type": "code",
   "execution_count": 8,
   "metadata": {},
   "outputs": [
    {
     "data": {
      "image/png": "[encoded data removed]",
      "text/plain": [
       "<Figure size 432x288 with 1 Axes>"
      ]
     },
     "metadata": {},
     "output_type": "display_data"
    }
   ],
   "source": [
    "#!/usr/bin/env python3\n",
    "# -*- coding:utf-8 -*-\n",
    "# Author LQ6H\n",
    "\n",
    "import tensorflow as tf\n",
    "import matplotlib.pyplot as plt\n",
    "\n",
    "x=tf.random_uniform([10,4,20,5],minval=0,maxval=10,dtype=tf.float32)\n",
    "\n",
    "session=tf.Session()\n",
    "\n",
    "array=session.run(x)\n",
    "\n",
    "array1d=array.reshape([-1])\n",
    "\n",
    "plt.hist(array1d)\n",
    "plt.show()"
   ]
  },
  {
   "cell_type": "markdown",
   "metadata": {
    "collapsed": true
   },
   "source": [
    "## 2.态(高斯)分布随机数"
   ]
  },
  {
   "cell_type": "code",
   "execution_count": 2,
   "metadata": {},
   "outputs": [
    {
     "name": "stderr",
     "output_type": "stream",
     "text": [
      "E:\\Anaconda\\envs\\mytensorflow\\lib\\site-packages\\matplotlib\\axes\\_axes.py:6571: UserWarning: The 'normed' kwarg is deprecated, and has been replaced by the 'density' kwarg.\n",
      "  warnings.warn(\"The 'normed' kwarg is deprecated, and has been \"\n"
     ]
    },
    {
     "data": {
      "image/png": "[encoded data removed]",
      "text/plain": [
       "<Figure size 432x288 with 1 Axes>"
      ]
     },
     "metadata": {},
     "output_type": "display_data"
    }
   ],
   "source": [
    "#!/usr/bin/env python3\n",
    "# -*- coding:utf-8 -*-\n",
    "# Author LQ6H\n",
    "\n",
    "import tensorflow as tf\n",
    "import matplotlib.pyplot as plt\n",
    "import numpy as np\n",
    "import math\n",
    "\n",
    "sigma=1\n",
    "mu=10\n",
    "\n",
    "result=tf.random_normal([10,4,20,5],mu,sigma,tf.float32)\n",
    "session=tf.Session()\n",
    "\n",
    "array=session.run(result)\n",
    "\n",
    "array1d=array.reshape([-1])\n",
    "\n",
    "histogram,bins,patch=plt.hist(array1d,25,facecolor=\"gray\",alpha=0.5,normed=True)\n",
    "\n",
    "x=np.arange(5,15,0.1)\n",
    "\n",
    "y=1.0/(math.sqrt(2*np.pi)*sigma)*np.exp(-np.power(x-mu,2.0)/(2*math.pow(sigma,2)))\n",
    "\n",
    "plt.plot(x,y)\n",
    "plt.show()"
   ]
  },
  {
   "cell_type": "markdown",
   "metadata": {
    "collapsed": true
   },
   "source": [
    "# 三.单个张量的运算\n",
    "## 1.改变张量的数据类型\n",
    "#### 数值型转换为bool型"
   ]
  },
  {
   "cell_type": "code",
   "execution_count": 4,
   "metadata": {},
   "outputs": [
    {
     "name": "stdout",
     "output_type": "stream",
     "text": [
      "[[False  True False]\n",
      " [False False  True]]\n"
     ]
    }
   ],
   "source": [
    "#!/usr/bin/env python3\n",
    "# -*- coding:utf-8 -*-\n",
    "# Author LQ6H\n",
    "\n",
    "import tensorflow as tf\n",
    "\n",
    "t=tf.constant(\n",
    "    [\n",
    "        [0,2,0],\n",
    "        [0,0,1]\n",
    "    ]\n",
    "    ,tf.float32\n",
    ")\n",
    "\n",
    "session=tf.Session()\n",
    "\n",
    "r=tf.cast(t,tf.bool)\n",
    "\n",
    "print(session.run(r))"
   ]
  },
  {
   "cell_type": "markdown",
   "metadata": {
    "collapsed": true
   },
   "source": [
    "#### bool型转换为数值型"
   ]
  },
  {
   "cell_type": "code",
   "execution_count": 5,
   "metadata": {},
   "outputs": [
    {
     "name": "stdout",
     "output_type": "stream",
     "text": [
      "[[ 0.  1.  0.]\n",
      " [ 0.  0.  1.]]\n"
     ]
    }
   ],
   "source": [
    "#!/usr/bin/env python3\n",
    "# -*- coding:utf-8 -*-\n",
    "# Author LQ6H\n",
    "\n",
    "import tensorflow as tf\n",
    "\n",
    "t=tf.constant(\n",
    "    [\n",
    "        [False,True,False],\n",
    "        [False,False,True]\n",
    "    ]\n",
    "    ,tf.bool\n",
    ")\n",
    "\n",
    "session=tf.Session()\n",
    "\n",
    "r=tf.cast(t,tf.float32)\n",
    "\n",
    "print(session.run(r))"
   ]
  },
  {
   "cell_type": "markdown",
   "metadata": {
    "collapsed": true
   },
   "source": [
    "## 2.访问张量中某一个区域的值\n",
    "#### 一维张量中某一个区域的值"
   ]
  },
  {
   "cell_type": "code",
   "execution_count": 6,
   "metadata": {},
   "outputs": [
    {
     "name": "stdout",
     "output_type": "stream",
     "text": [
      "[ 2.  3.  4.]\n"
     ]
    }
   ],
   "source": [
    "#!/usr/bin/env python3\n",
    "# -*- coding:utf-8 -*-\n",
    "# Author LQ6H\n",
    "\n",
    "import tensorflow as tf\n",
    "\n",
    "t1=tf.constant([1,2,3,4,5],tf.float32)\n",
    "\n",
    "t=tf.slice(t1,[1],[3])\n",
    "\n",
    "session=tf.Session()\n",
    "\n",
    "print(session.run(t))"
   ]
  },
  {
   "cell_type": "markdown",
   "metadata": {
    "collapsed": true
   },
   "source": [
    "#### 二维张量中某个区域的值"
   ]
  },
  {
   "cell_type": "code",
   "execution_count": 7,
   "metadata": {},
   "outputs": [
    {
     "name": "stdout",
     "output_type": "stream",
     "text": [
      "[[ 2.  3.]\n",
      " [ 6.  7.]]\n"
     ]
    }
   ],
   "source": [
    "#!/usr/bin/env python3\n",
    "# -*- coding:utf-8 -*-\n",
    "# Author LQ6H\n",
    "\n",
    "import tensorflow as tf\n",
    "\n",
    "t2=tf.constant(\n",
    "    [\n",
    "        [1,2,3,4],\n",
    "        [5,6,7,8],\n",
    "        [9,10,11,12]\n",
    "    ]\n",
    "    ,tf.float32\n",
    ")\n",
    "\n",
    "t=tf.slice(t2,[0,1],[2,2])\n",
    "\n",
    "session=tf.Session()\n",
    "\n",
    "print(session.run(t))"
   ]
  },
  {
   "cell_type": "markdown",
   "metadata": {},
   "source": [
    "#### 三维张量中某个区域的值"
   ]
  },
  {
   "cell_type": "code",
   "execution_count": 14,
   "metadata": {},
   "outputs": [
    {
     "name": "stdout",
     "output_type": "stream",
     "text": [
      "[[[ 1.]\n",
      "  [ 2.]]\n",
      "\n",
      " [[ 9.]\n",
      "  [-3.]]]\n"
     ]
    }
   ],
   "source": [
    "#!/usr/bin/env python3\n",
    "# -*- coding:utf-8 -*-\n",
    "# Author LQ6H\n",
    "\n",
    "import tensorflow as tf\n",
    "\n",
    "t3d=tf.constant(\n",
    "    [\n",
    "        [[2,5],[3,3],[8,2]],\n",
    "        [[6,1],[1,2],[5,4]],\n",
    "        [[7,9],[2,-3],[-1,3]]\n",
    "    ]\n",
    "    ,tf.float32\n",
    ")\n",
    "\n",
    "t=tf.slice(t3d,[1,0,1],[2,2,1])\n",
    "\n",
    "session=tf.Session()\n",
    "\n",
    "print(session.run(t))"
   ]
  },
  {
   "cell_type": "markdown",
   "metadata": {
    "collapsed": true
   },
   "source": [
    "## 3.转置"
   ]
  },
  {
   "cell_type": "code",
   "execution_count": 17,
   "metadata": {},
   "outputs": [
    {
     "name": "stdout",
     "output_type": "stream",
     "text": [
      "[[ 1.  4.]\n",
      " [ 2.  5.]\n",
      " [ 3.  6.]]\n"
     ]
    }
   ],
   "source": [
    "#!/usr/bin/env python3\n",
    "# -*- coding:utf-8 -*-\n",
    "# Author LQ6H\n",
    "\n",
    "import tensorflow as tf\n",
    "\n",
    "x=tf.constant(\n",
    "    [\n",
    "        [1,2,3],\n",
    "        [4,5,6]\n",
    "    ]\n",
    "    ,tf.float32\n",
    ")\n",
    "\n",
    "session=tf.Session()\n",
    "\n",
    "r=tf.transpose(x,perm=[1,0])\n",
    "\n",
    "print(session.run(r))"
   ]
  },
  {
   "cell_type": "code",
   "execution_count": 18,
   "metadata": {},
   "outputs": [
    {
     "name": "stdout",
     "output_type": "stream",
     "text": [
      "[[[ 2.  5.]\n",
      "  [ 6.  1.]]\n",
      "\n",
      " [[ 3.  4.]\n",
      "  [ 1.  2.]]\n",
      "\n",
      " [[ 8.  2.]\n",
      "  [ 5.  4.]]]\n"
     ]
    }
   ],
   "source": [
    "#!/usr/bin/env python3\n",
    "# -*- coding:utf-8 -*-\n",
    "# Author LQ6H\n",
    "\n",
    "import tensorflow as tf\n",
    "\n",
    "x=tf.constant(\n",
    "    [\n",
    "        [[2,5],[3,4],[8,2]],\n",
    "        [[6,1],[1,2],[5,4]]\n",
    "    ]\n",
    "    ,tf.float32\n",
    ")\n",
    "\n",
    "session=tf.Session()\n",
    "\n",
    "r=tf.transpose(x,perm=[1,0,2])\n",
    "\n",
    "print(session.run(r))"
   ]
  },
  {
   "cell_type": "markdown",
   "metadata": {},
   "source": [
    "## 4.改变形状"
   ]
  },
  {
   "cell_type": "code",
   "execution_count": 19,
   "metadata": {},
   "outputs": [
    {
     "name": "stdout",
     "output_type": "stream",
     "text": [
      "[[[  1.   2.   4.]]\n",
      "\n",
      " [[  5.   6.   7.]]\n",
      "\n",
      " [[  8.   9.  10.]]\n",
      "\n",
      " [[ 11.  12.  13.]]]\n"
     ]
    }
   ],
   "source": [
    "#!/usr/bin/env python3\n",
    "# -*- coding:utf-8 -*-\n",
    "# Author LQ6H\n",
    "\n",
    "import tensorflow as tf\n",
    "\n",
    "t3d=tf.constant(\n",
    "    [\n",
    "        [[1,2],[4,5],[6,7]],\n",
    "        [[8,9],[10,11],[12,13]]\n",
    "    ]\n",
    "    ,tf.float32\n",
    ")\n",
    "\n",
    "session=tf.Session()\n",
    "\n",
    "t1=tf.reshape(t3d,[4,1,-1])\n",
    "\n",
    "print(session.run(t1))"
   ]
  },
  {
   "cell_type": "markdown",
   "metadata": {},
   "source": [
    "#### 注意程序中t1=tf.reshape(t3d,[4,1,-1])等价于t1=tf.reshape(t3d,[4,1,3])"
   ]
  },
  {
   "cell_type": "code",
   "execution_count": 4,
   "metadata": {},
   "outputs": [
    {
     "name": "stdout",
     "output_type": "stream",
     "text": [
      "[[ 2.  5.  3.  3.  8.  2.  6.  1.  1.  2.  5.  4.]\n",
      " [ 1.  2.  3.  6.  1.  2.  3.  1.  1.  2.  2.  1.]]\n"
     ]
    }
   ],
   "source": [
    "#!/usr/bin/env python3\n",
    "# -*- coding:utf-8 -*-\n",
    "# Author LQ6H\n",
    "\n",
    "import tensorflow as tf\n",
    "\n",
    "t4d=tf.constant(\n",
    "    [\n",
    "        [\n",
    "            [[2,5],[3,3],[8,2]],\n",
    "            [[6,1],[1,2],[5,4]]\n",
    "        ],\n",
    "        [\n",
    "            [[1,2],[3,6],[1,2]],\n",
    "            [[3,1],[1,2],[2,1]]\n",
    "        ]\n",
    "    ]\n",
    "    ,tf.float32\n",
    ")\n",
    "\n",
    "t2d=tf.reshape(t4d,[2,-1])\n",
    "#t2d=tf.reshape(t4d,[-1,3*3*2])\n",
    "\n",
    "session=tf.Session()\n",
    "\n",
    "print(session.run(t2d))"
   ]
  },
  {
   "cell_type": "markdown",
   "metadata": {},
   "source": [
    "## 5.归约运算"
   ]
  },
  {
   "cell_type": "code",
   "execution_count": 22,
   "metadata": {},
   "outputs": [
    {
     "name": "stdout",
     "output_type": "stream",
     "text": [
      "13.0\n"
     ]
    }
   ],
   "source": [
    "#!/usr/bin/env python3\n",
    "# -*- coding:utf-8 -*-\n",
    "# Author LQ6H\n",
    "\n",
    "import tensorflow as tf\n",
    "\n",
    "t1d=tf.constant([3,4,1,5],tf.float32)\n",
    "\n",
    "sum0=tf.reduce_sum(t1d)\n",
    "# sum0=tf.reduce_sum(t1d,axis=0)\n",
    "\n",
    "session=tf.Session()\n",
    "\n",
    "print(session.run(sum0))"
   ]
  },
  {
   "cell_type": "code",
   "execution_count": 23,
   "metadata": {},
   "outputs": [
    {
     "name": "stdout",
     "output_type": "stream",
     "text": [
      "沿0轴方向的和：\n",
      "[  8.  10.   9.   9.]\n",
      "沿1轴方向的和：\n",
      "[ 12.  24.]\n",
      "沿(0,1)平面的和：\n",
      "36.0\n"
     ]
    }
   ],
   "source": [
    "#!/usr/bin/env python3\n",
    "# -*- coding:utf-8 -*-\n",
    "# Author LQ6H\n",
    "\n",
    "import tensorflow as tf\n",
    "\n",
    "value2d=tf.constant(\n",
    "    [\n",
    "        [5,1,4,2],\n",
    "        [3,9,5,7]\n",
    "    ]\n",
    "    ,tf.float32\n",
    ")\n",
    "\n",
    "session=tf.Session()\n",
    "\n",
    "sum0=tf.reduce_sum(value2d,axis=0)\n",
    "print(\"沿0轴方向的和：\")\n",
    "print(session.run(sum0))\n",
    "\n",
    "sum1=tf.reduce_sum(value2d,axis=1)\n",
    "print(\"沿1轴方向的和：\")\n",
    "print(session.run(sum1))\n",
    "\n",
    "sum01=tf.reduce_sum(value2d,axis=(0,1))\n",
    "print(\"沿(0,1)平面的和：\")\n",
    "print(session.run(sum01))"
   ]
  },
  {
   "cell_type": "markdown",
   "metadata": {},
   "source": [
    "# 四.对个张量之间的运算\n",
    "## 二维张量的加法"
   ]
  },
  {
   "cell_type": "code",
   "execution_count": 29,
   "metadata": {},
   "outputs": [
    {
     "name": "stdout",
     "output_type": "stream",
     "text": [
      "[[ 11.  12.  13.]\n",
      " [ 24.  25.  26.]]\n"
     ]
    }
   ],
   "source": [
    "#!/usr/bin/env python3\n",
    "# -*- coding:utf-8 -*-\n",
    "# Author LQ6H\n",
    "\n",
    "import tensorflow as tf\n",
    "\n",
    "value1=tf.constant(\n",
    "    [\n",
    "        [1,2,3],\n",
    "        [4,5,6]\n",
    "    ]\n",
    "    ,tf.float32\n",
    ")\n",
    "\n",
    "value2=tf.constant(\n",
    "    [\n",
    "        [10],\n",
    "        [20]\n",
    "    ]\n",
    "    ,tf.float32\n",
    ")\n",
    "\n",
    "result=tf.add(value1,value2)\n",
    "\n",
    "session=tf.Session()\n",
    "\n",
    "print(session.run(result))"
   ]
  },
  {
   "cell_type": "markdown",
   "metadata": {},
   "source": [
    "## 乘法\n",
    "Tensorflow除了提供乘法函数multiply，还提供关于矩阵(二维张量)乘法的函数matmul"
   ]
  },
  {
   "cell_type": "code",
   "execution_count": 30,
   "metadata": {},
   "outputs": [
    {
     "name": "stdout",
     "output_type": "stream",
     "text": [
      "[[ -5.]\n",
      " [-11.]]\n"
     ]
    }
   ],
   "source": [
    "#!/usr/bin/env python3\n",
    "# -*- coding:utf-8 -*-\n",
    "# Author LQ6H\n",
    "\n",
    "import tensorflow as tf\n",
    "\n",
    "x=tf.constant(\n",
    "    [\n",
    "        [1,2],\n",
    "        [3,4]\n",
    "    ]\n",
    "    ,tf.float32\n",
    ")\n",
    "\n",
    "w=tf.constant([[-1],[-2]],tf.float32)\n",
    "\n",
    "y=tf.matmul(x,w)\n",
    "\n",
    "session=tf.Session()\n",
    "\n",
    "print(session.run(y))"
   ]
  },
  {
   "cell_type": "markdown",
   "metadata": {},
   "source": [
    "## 4.张量的堆叠\n",
    "#### 一维张量的堆叠"
   ]
  },
  {
   "cell_type": "code",
   "execution_count": 24,
   "metadata": {},
   "outputs": [
    {
     "name": "stdout",
     "output_type": "stream",
     "text": [
      "[[ 1.  2.  3.]\n",
      " [ 7.  8.  9.]]\n"
     ]
    }
   ],
   "source": [
    "#!/usr/bin/env python3\n",
    "# -*- coding:utf-8 -*-\n",
    "# Author LQ6H\n",
    "\n",
    "import tensorflow as tf\n",
    "\n",
    "t1=tf.constant([1,2,3],tf.float32)\n",
    "\n",
    "t2=tf.constant([7,8,9],tf.float32)\n",
    "\n",
    "t=tf.stack([t1,t2],0)\n",
    "\n",
    "session=tf.Session()\n",
    "\n",
    "print(session.run(t))"
   ]
  },
  {
   "cell_type": "markdown",
   "metadata": {},
   "source": [
    "#### 二维张量的堆叠"
   ]
  },
  {
   "cell_type": "code",
   "execution_count": 26,
   "metadata": {},
   "outputs": [
    {
     "name": "stdout",
     "output_type": "stream",
     "text": [
      "[[[ 11.  12.  13.]\n",
      "  [  4.   5.   6.]]\n",
      "\n",
      " [[ 14.  15.  16.]\n",
      "  [  7.   8.   9.]]]\n"
     ]
    }
   ],
   "source": [
    "#!/usr/bin/env python3\n",
    "# -*- coding:utf-8 -*-\n",
    "# Author LQ6H\n",
    "\n",
    "import tensorflow as tf\n",
    "\n",
    "t1=tf.constant(\n",
    "    [\n",
    "        [11,12,13],\n",
    "        [14,15,16]\n",
    "    ]\n",
    "    ,tf.float32\n",
    ")\n",
    "\n",
    "t2=tf.constant(\n",
    "    [\n",
    "        [4,5,6],\n",
    "        [7,8,9]\n",
    "    ]\n",
    "    ,tf.float32\n",
    ")\n",
    "\n",
    "session=tf.Session()\n",
    "\n",
    "t=tf.stack([t1,t2],1)\n",
    "\n",
    "print(session.run(t))"
   ]
  },
  {
   "cell_type": "markdown",
   "metadata": {
    "collapsed": true
   },
   "source": [
    "# 五.占位符(placeholder)"
   ]
  },
  {
   "cell_type": "code",
   "execution_count": 27,
   "metadata": {},
   "outputs": [
    {
     "name": "stdout",
     "output_type": "stream",
     "text": [
      "[[  4.   5.]\n",
      " [ 10.  11.]\n",
      " [ 16.  17.]]\n",
      "[[ 3.]\n",
      " [ 5.]\n",
      " [ 7.]]\n"
     ]
    }
   ],
   "source": [
    "#!/usr/bin/env python3\n",
    "# -*- coding:utf-8 -*-\n",
    "# Author LQ6H\n",
    "\n",
    "import tensorflow as tf\n",
    "import numpy as np\n",
    "\n",
    "x=tf.placeholder(tf.float32,[2,None],name=\"x\")\n",
    "\n",
    "w=tf.constant(\n",
    "    [\n",
    "        [1,2],\n",
    "        [3,4],\n",
    "        [5,6]\n",
    "    ]\n",
    "    ,tf.float32\n",
    ")\n",
    "\n",
    "y=tf.matmul(w,x)\n",
    "\n",
    "session=tf.Session()\n",
    "\n",
    "result1=session.run(y,feed_dict={x:np.array([[2,1],[1,2]],np.float32)})\n",
    "print(result1)\n",
    "\n",
    "result2=session.run(y,feed_dict={x:np.array([[-1],[2]],np.float32)})\n",
    "print(result2)"
   ]
  },
  {
   "cell_type": "markdown",
   "metadata": {
    "collapsed": true
   },
   "source": [
    "# 六.Variable对象\n",
    "Tensor对象的值是不可变的，Tensor类并没有提供任何成员函数改变其值，而且无法用同一个Tensor对象记录一个随时变化的值。Tensorflow中的Variable类可以解决该问题，保存随时变化的值"
   ]
  },
  {
   "cell_type": "code",
   "execution_count": 28,
   "metadata": {},
   "outputs": [
    {
     "name": "stdout",
     "output_type": "stream",
     "text": [
      "v初始化的值\n",
      "[ 2.  3.]\n",
      "v的当前值\n",
      "[ 12.  23.]\n"
     ]
    }
   ],
   "source": [
    "#!/usr/bin/env python3\n",
    "# -*- coding:utf-8 -*-\n",
    "# Author LQ6H\n",
    "\n",
    "import tensorflow as tf\n",
    "\n",
    "v=tf.Variable(tf.constant([2,3],tf.float32))\n",
    "\n",
    "session=tf.Session()\n",
    "\n",
    "session.run(tf.global_variables_initializer())\n",
    "\n",
    "print(\"v初始化的值\")\n",
    "print(session.run(v))\n",
    "\n",
    "session.run(v.assign_add([10,20]))\n",
    "print(\"v的当前值\")\n",
    "print(session.run(v))"
   ]
  },
  {
   "cell_type": "markdown",
   "metadata": {
    "collapsed": true
   },
   "source": [
    "#### 注意：创建Variable对象后，要调用方法global_variables_initializer()，才可以使用Variable对象的值，否则会报错"
   ]
  }
 ],
 "metadata": {
  "kernelspec": {
   "display_name": "Python 3",
   "language": "python",
   "name": "python3"
  },
  "language_info": {
   "codemirror_mode": {
    "name": "ipython",
    "version": 3
   },
   "file_extension": ".py",
   "mimetype": "text/x-python",
   "name": "python",
   "nbconvert_exporter": "python",
   "pygments_lexer": "ipython3",
   "version": "3.7.1"
  }
 },
 "nbformat": 4,
 "nbformat_minor": 2
}
