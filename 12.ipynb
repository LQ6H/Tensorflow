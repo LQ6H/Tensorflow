{
 "cells": [
  {
   "cell_type": "markdown",
   "metadata": {},
   "source": [
    "# Tensorflow--池化操作的梯度"
   ]
  },
  {
   "cell_type": "markdown",
   "metadata": {},
   "source": [
    "池化操作的梯度分两部分介绍，第一部分介绍平均值池化的梯度计算，第二部分介绍最大值池化的梯度计算"
   ]
  },
  {
   "cell_type": "markdown",
   "metadata": {},
   "source": [
    "### 一.平均值池化的梯度\n",
    "利用计算梯度的函数gradients实现上述示例，具体代码如下："
   ]
  },
  {
   "cell_type": "code",
   "execution_count": 1,
   "metadata": {},
   "outputs": [
    {
     "name": "stdout",
     "output_type": "stream",
     "text": [
      "---针对sigma的梯度---：\n",
      "[[[[1.]\n",
      "   [1.]]\n",
      "\n",
      "  [[1.]\n",
      "   [1.]]]]\n",
      "---针对x的梯度---：\n",
      "[[[[0.25]\n",
      "   [0.5 ]\n",
      "   [0.25]]\n",
      "\n",
      "  [[0.5 ]\n",
      "   [1.  ]\n",
      "   [0.5 ]]\n",
      "\n",
      "  [[0.25]\n",
      "   [0.5 ]\n",
      "   [0.25]]]]\n"
     ]
    }
   ],
   "source": [
    "import tensorflow as tf\n",
    "import numpy as np\n",
    "\n",
    "# x是1个3行3列1深度的张量\n",
    "x=tf.placeholder(tf.float32,(1,3,3,1))\n",
    "\n",
    "# 2x2的掩码，步长是(1,1,1,1)的valid平均值池化操作\n",
    "sigma=tf.nn.avg_pool(x,(1,2,2,1),(1,1,1,1),'VALID')\n",
    "\n",
    "# 构造一个函数F：池化结果的和\n",
    "F=tf.reduce_sum(sigma)\n",
    "\n",
    "session=tf.Session()\n",
    "\n",
    "xvalue=np.random.randn(1,3,3,1)\n",
    "grad=tf.gradients(F,[sigma,x])\n",
    "results=session.run(grad,{x:xvalue})\n",
    "\n",
    "print(\"---针对sigma的梯度---：\")\n",
    "print(results[0])\n",
    "print(\"---针对x的梯度---：\")\n",
    "print(results[1])"
   ]
  },
  {
   "cell_type": "markdown",
   "metadata": {},
   "source": [
    "### 二.最大值池化的梯度"
   ]
  },
  {
   "cell_type": "code",
   "execution_count": 2,
   "metadata": {},
   "outputs": [
    {
     "name": "stdout",
     "output_type": "stream",
     "text": [
      "[[[[ 0.]\n",
      "   [ 2.]\n",
      "   [ 9.]\n",
      "   [ 3.]]\n",
      "\n",
      "  [[ 4.]\n",
      "   [ 6.]\n",
      "   [ 7.]\n",
      "   [ 0.]]\n",
      "\n",
      "  [[ 0.]\n",
      "   [13.]\n",
      "   [ 1.]\n",
      "   [ 5.]]\n",
      "\n",
      "  [[12.]\n",
      "   [18.]\n",
      "   [ 0.]\n",
      "   [14.]]]]\n",
      "[[[[ 0.]\n",
      "   [ 2.]\n",
      "   [ 0.]\n",
      "   [ 3.]]\n",
      "\n",
      "  [[ 4.]\n",
      "   [ 0.]\n",
      "   [ 7.]\n",
      "   [ 0.]]\n",
      "\n",
      "  [[ 0.]\n",
      "   [13.]\n",
      "   [ 1.]\n",
      "   [ 5.]]\n",
      "\n",
      "  [[12.]\n",
      "   [ 0.]\n",
      "   [ 0.]\n",
      "   [ 0.]]]]\n"
     ]
    }
   ],
   "source": [
    "import tensorflow as tf\n",
    "\n",
    "# 初始化x的值\n",
    "x=tf.Variable(tf.constant([\n",
    "                           [\n",
    "                           [[8],[2],[9],[3]],\n",
    "                           [[4],[6],[7],[10]],\n",
    "                           [[20],[13],[1],[5]],\n",
    "                           [[12],[18],[19],[14]]\n",
    "                           ]\n",
    "                           ],tf.float32),dtype=tf.float32)\n",
    "\n",
    "# 2x2的掩码，步长为2x2的最大值池化操作\n",
    "x_maxPool=tf.nn.max_pool(x,(1,2,2,1),(1,2,2,1),'VALID')\n",
    "\n",
    "# 对以上最大值池化结果计算其平方和\n",
    "F=tf.reduce_sum(tf.square(x_maxPool))\n",
    "\n",
    "session=tf.Session()\n",
    "session.run(tf.global_variables_initializer())\n",
    "\n",
    "opti=tf.train.GradientDescentOptimizer(0.5).minimize(F)\n",
    "\n",
    "# 打印前2次结果\n",
    "for i in range(2):\n",
    "    session.run(opti)\n",
    "    print(session.run(x))"
   ]
  }
 ],
 "metadata": {
  "kernelspec": {
   "display_name": "Python 3",
   "language": "python",
   "name": "python3"
  },
  "language_info": {
   "codemirror_mode": {
    "name": "ipython",
    "version": 3
   },
   "file_extension": ".py",
   "mimetype": "text/x-python",
   "name": "python",
   "nbconvert_exporter": "python",
   "pygments_lexer": "ipython3",
   "version": "3.7.1"
  }
 },
 "nbformat": 4,
 "nbformat_minor": 2
}
