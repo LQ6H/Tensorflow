{
 "cells": [
  {
   "cell_type": "markdown",
   "metadata": {},
   "source": [
    "# Tensorflow--二维离散卷积"
   ]
  },
  {
   "cell_type": "markdown",
   "metadata": {},
   "source": [
    "### 一.二维离散卷积的计算原理\n",
    "二维离散卷积的计算原理同一维离散卷积的计算原理类似，也有三种卷积类型：full卷积，same卷积核valid卷积。通过3行3列的二维张量x和2行2列的二维张量K"
   ]
  },
  {
   "cell_type": "markdown",
   "metadata": {},
   "source": [
    "#### 1.full卷积\n",
    "full卷积的计算过程如下：K沿着x按照先行后列的顺序移动，每移动到一个固定位置，对应位置的值相乘，然后求和"
   ]
  },
  {
   "cell_type": "markdown",
   "metadata": {},
   "source": [
    "注意：同一维卷积类似，对二维卷积的定义一般分为两步，首先将卷积核翻转180，然后计算对应位置相乘的和，如常用的Numpy，MATLAB中实现的卷积函数都是先将输入的卷积核翻转180，Tensorflow中实现二维卷积的函数为："
   ]
  },
  {
   "cell_type": "code",
   "execution_count": null,
   "metadata": {
    "collapsed": true
   },
   "outputs": [],
   "source": [
    "tf.nn.conv2d(input,filter,strides,padding,use_cudnn_on_gpu=True,data_format=\"NHWC\",dilations=[1,1,1,1],name=None)"
   ]
  },
  {
   "cell_type": "markdown",
   "metadata": {},
   "source": [
    "该函数内部没有对卷积核翻转"
   ]
  },
  {
   "cell_type": "markdown",
   "metadata": {},
   "source": [
    "#### 2.same卷积\n",
    "x和K进行same卷积，首先为K指定一个锚点，然后将锚点先行后列地移动到输入张量x的每一个位置处，对应位置相乘然后求和。卷积核K的高等于FH，宽等于FW，其锚点的位置一般用以下规则定义\n",
    ".如果FH为奇数，FW为奇数，锚点的位置是((FH-1)/2,(FW-1)/2)\n",
    ".如果FH为奇数，FW为偶数，锚点的位置是((FH-1)/2,(FW-2)/2)\n",
    ".如果FH为偶数，FW为奇数，锚点的位置是((FH-2)/2,(FW-1)/2)\n",
    ".如果FH为偶数，FW为偶数，锚点的位置是((FH-2)/2,(FW-2)/2)\n",
    "这里的位置索引是从0开始的\n",
    "\n",
    "以上面的示例为例，K的高为2，宽为2，所以锚点的位置在K的(0,0)处"
   ]
  },
  {
   "cell_type": "code",
   "execution_count": 2,
   "metadata": {},
   "outputs": [
    {
     "name": "stdout",
     "output_type": "stream",
     "text": [
      "[[[[26.]\n",
      "   [37.]\n",
      "   [42.]]\n",
      "\n",
      "  [[45.]\n",
      "   [10.]\n",
      "   [18.]]\n",
      "\n",
      "  [[30.]\n",
      "   [ 7.]\n",
      "   [-4.]]]]\n"
     ]
    }
   ],
   "source": [
    "import tensorflow as tf\n",
    "\n",
    "X=tf.constant(\n",
    "    [\n",
    "        [\n",
    "            [[2],[3],[8]],\n",
    "            [[6],[1],[5]],\n",
    "            [[7],[2],[-1]]\n",
    "        ]\n",
    "    ]\n",
    "    ,tf.float32\n",
    ")\n",
    "\n",
    "K=tf.constant(\n",
    "    [\n",
    "        [\n",
    "            [[4]],[[1]]],\n",
    "        [\n",
    "            [[2]],[[3]]\n",
    "        ]\n",
    "    ]\n",
    "    ,tf.float32\n",
    ")\n",
    "\n",
    "# same卷积\n",
    "conv=tf.nn.conv2d(X,K,(1,1,1,1),'SAME')\n",
    "\n",
    "session=tf.Session()\n",
    "\n",
    "print(session.run(conv))"
   ]
  },
  {
   "cell_type": "markdown",
   "metadata": {},
   "source": [
    "#### 3.valid卷积\n",
    "如果卷积核K靠近x的边界，那么K就会有部分延伸到x外，导致访问到未定义的值；如果忽略边界，只考虑x能完全覆盖K的值情况(即K在x内部移动)，则该过程称为valid卷积"
   ]
  },
  {
   "cell_type": "code",
   "execution_count": 4,
   "metadata": {},
   "outputs": [
    {
     "name": "stdout",
     "output_type": "stream",
     "text": [
      "[[[[26.]\n",
      "   [37.]]\n",
      "\n",
      "  [[45.]\n",
      "   [10.]]]]\n"
     ]
    }
   ],
   "source": [
    "import tensorflow as tf\n",
    "\n",
    "X=tf.constant(\n",
    "    [\n",
    "        [\n",
    "            [[2],[3],[8]],\n",
    "            [[6],[1],[5]],\n",
    "            [[7],[2],[-1]]\n",
    "        ]\n",
    "    ]\n",
    "    ,tf.float32\n",
    ")\n",
    "\n",
    "K=tf.constant(\n",
    "    [\n",
    "        [\n",
    "            [[4]],[[1]]],\n",
    "        [\n",
    "            [[2]],[[3]]\n",
    "        ]\n",
    "    ]\n",
    "    ,tf.float32\n",
    ")\n",
    "\n",
    "# same卷积\n",
    "conv=tf.nn.conv2d(X,K,(1,1,1,1),'VALID')\n",
    "\n",
    "session=tf.Session()\n",
    "\n",
    "print(session.run(conv))"
   ]
  },
  {
   "cell_type": "markdown",
   "metadata": {},
   "source": [
    "#### 4.full，same，valid卷积的关系\n",
    "假设有H行W列的二维张量x与FH行FW列的二维张量K卷积，两者full卷积的结果记为，same卷积的结果记为，valid的结果记为"
   ]
  },
  {
   "cell_type": "markdown",
   "metadata": {},
   "source": [
    "full卷积与valid卷积的关系\n"
   ]
  },
  {
   "cell_type": "markdown",
   "metadata": {},
   "source": [
    "full卷积与same卷积的关系\n"
   ]
  },
  {
   "cell_type": "markdown",
   "metadata": {},
   "source": [
    "same卷积与valid卷积的关系\n"
   ]
  },
  {
   "cell_type": "markdown",
   "metadata": {},
   "source": [
    "#### 5.卷积结果的输出尺寸\n",
    "我们讨论的卷积操作，在卷积过程中卷积核的移动步长均是1，所以H行W列的x与FH行FW列的卷积核K的same卷积结果的尺寸为H行W列，valid卷积结果的尺寸为H-FH+1行W-FW+1列"
   ]
  },
  {
   "cell_type": "markdown",
   "metadata": {},
   "source": [
    "same卷积结果的尺寸\n"
   ]
  },
  {
   "cell_type": "markdown",
   "metadata": {},
   "source": [
    "valid卷积结果的尺寸\n"
   ]
  },
  {
   "cell_type": "markdown",
   "metadata": {},
   "source": [
    "### 二.离散卷积的性质"
   ]
  },
  {
   "cell_type": "markdown",
   "metadata": {},
   "source": [
    "#### 1.可分离的卷积核\n",
    "如果一个卷积核由至少两个尺寸比它小的卷积核full卷积二成，既满足\n",
    "Kennel=kernel1☆kernel2☆...kerneln\n",
    "其中kerneli的尺寸均比Kernel小，1≤i≤n,则陈卷积核Kernel是可分离的"
   ]
  },
  {
   "cell_type": "markdown",
   "metadata": {},
   "source": [
    "#### 2.full和same卷积的性质\n",
    "以下代码实现了I与卷积核Kernel的same卷积，因为Kernel是可分离的，利用same卷积的性质，可以计算两者的same卷积"
   ]
  },
  {
   "cell_type": "code",
   "execution_count": 6,
   "metadata": {},
   "outputs": [
    {
     "name": "stdout",
     "output_type": "stream",
     "text": [
      "直接卷积结果是：\n",
      "[[[[ 443.]\n",
      "   [ 805.]\n",
      "   [ 815.]\n",
      "   [ 617.]\n",
      "   [ 256.]]\n",
      "\n",
      "  [[ 952.]\n",
      "   [1286.]\n",
      "   [1272.]\n",
      "   [ 933.]\n",
      "   [ 414.]]\n",
      "\n",
      "  [[1174.]\n",
      "   [1672.]\n",
      "   [2064.]\n",
      "   [1571.]\n",
      "   [ 718.]]\n",
      "\n",
      "  [[1054.]\n",
      "   [1424.]\n",
      "   [1622.]\n",
      "   [1206.]\n",
      "   [ 542.]]\n",
      "\n",
      "  [[ 538.]\n",
      "   [ 818.]\n",
      "   [ 986.]\n",
      "   [ 742.]\n",
      "   [ 326.]]]]\n",
      "利用卷积核的分离性的卷积结果：\n",
      "[[[[ 443.]\n",
      "   [ 805.]\n",
      "   [ 815.]\n",
      "   [ 617.]\n",
      "   [ 256.]]\n",
      "\n",
      "  [[ 952.]\n",
      "   [1286.]\n",
      "   [1272.]\n",
      "   [ 933.]\n",
      "   [ 414.]]\n",
      "\n",
      "  [[1174.]\n",
      "   [1672.]\n",
      "   [2064.]\n",
      "   [1571.]\n",
      "   [ 718.]]\n",
      "\n",
      "  [[1054.]\n",
      "   [1424.]\n",
      "   [1622.]\n",
      "   [1206.]\n",
      "   [ 542.]]\n",
      "\n",
      "  [[ 538.]\n",
      "   [ 818.]\n",
      "   [ 986.]\n",
      "   [ 742.]\n",
      "   [ 326.]]]]\n"
     ]
    }
   ],
   "source": [
    "import tensorflow as tf\n",
    "\n",
    "# 输入张量5x5\n",
    "I=tf.constant(\n",
    "    [\n",
    "        [\n",
    "            [[2],[9],[11],[4],[8]],\n",
    "            [[6],[12],[20],[16],[5]],\n",
    "            [[1],[32],[13],[14],[10]],\n",
    "            [[11],[20],[27],[40],[17]],\n",
    "            [[9],[8],[11],[4],[1]]\n",
    "        ]\n",
    "    ]\n",
    "    ,tf.float32\n",
    ")\n",
    "\n",
    "# 卷积核3x3\n",
    "Kernel=tf.constant(\n",
    "    [\n",
    "        [\n",
    "            [[4]],[[8]],[[12]]\n",
    "        ],\n",
    "        [\n",
    "            [[5]],[[10]],[[15]]  \n",
    "        ],\n",
    "        [\n",
    "            [[6]],[[12]],[[18]]\n",
    "        ]\n",
    "    ]\n",
    "    ,tf.float32\n",
    ")\n",
    "\n",
    "session=tf.Session()\n",
    "\n",
    "# 输入张量与卷积核直接卷积\n",
    "result=tf.nn.conv2d(I,Kernel,[1,1,1,1],'SAME')\n",
    "print(\"直接卷积结果是：\")\n",
    "print(session.run(result))\n",
    "\n",
    "# 卷积核分离为3x1的垂直卷积核和1x3的水平卷积核\n",
    "kernel1=tf.constant(\n",
    "    [\n",
    "        [[[4]]],\n",
    "        [[[5]]],\n",
    "        [[[6]]]\n",
    "    ]\n",
    "    ,tf.float32\n",
    ")\n",
    "\n",
    "kernel2=tf.constant(\n",
    "    [\n",
    "        [[[3]],[[2]],[[1]]]\n",
    "    ]\n",
    "    ,tf.float32\n",
    ")\n",
    "\n",
    "# 将kernel2翻转180\n",
    "rotate180_kernel2=tf.reverse(kernel2,axis=[1])\n",
    "\n",
    "# 输入张量与分离的卷积核的卷积\n",
    "result1=tf.nn.conv2d(I,kernel1,[1,1,1,1],'SAME')\n",
    "result2=tf.nn.conv2d(result1,rotate180_kernel2,[1,1,1,1],'SAME')\n",
    "print(\"利用卷积核的分离性的卷积结果：\")\n",
    "print(session.run(result2))"
   ]
  },
  {
   "cell_type": "markdown",
   "metadata": {},
   "source": [
    "#### 3.快速计算卷积\n",
    "假设输入张量I的尺寸是H*W，卷积核Kernel的尺寸为FH*FW，则两者same卷积的乘法计算次数为：H*W*FH*FW\n",
    "如果卷积核Kernel是可分离的，分离为FH*1的垂直卷积核kernel1和1*FW的水平卷积核kernel2，则(I☆kernel1)☆rotate180(kernel2)的乘法计算次数为：H*W*(FH+FW)\n",
    "\n",
    "以上面示例为例，两者same卷积的计算次数为5*5*3*3=225,利用卷积核的分离性及卷积的结合率，same卷积的计算次数为(5*5)*(3+3)=150。显然，利用卷积核的分离性，计算次数比直接卷积减少了很多，张量或者卷积核的尺寸越大，忧伤越明显"
   ]
  },
  {
   "cell_type": "markdown",
   "metadata": {},
   "source": [
    "### 三.二维卷积定理\n",
    "二维卷积定理是一维卷积定理的推广，它揭示了二维傅里叶变换和二维卷积的某种关系"
   ]
  },
  {
   "cell_type": "markdown",
   "metadata": {},
   "source": [
    "#### 1.二维离散傅里叶变换\n",
    "假设有M行N列的复数数列f，其中f(x,y)代表f第x行第y列对应的值，那么对任意的x∈[0,M-1]，y∈[0,N-1]，是否存在M行N列的复数数列F，使得以下等式成立："
   ]
  },
  {
   "cell_type": "markdown",
   "metadata": {},
   "source": [
    "Tensorflow通过函数fft2d和ifft2d实现二维离散的傅里叶变换及逆变换"
   ]
  },
  {
   "cell_type": "code",
   "execution_count": 7,
   "metadata": {},
   "outputs": [
    {
     "name": "stdout",
     "output_type": "stream",
     "text": [
      "f的二维离散傅里叶变换：\n",
      "[[4.0000000e+01-2.3841858e-07j 2.4999998e+00-2.5980763e+00j\n",
      "  2.5000002e+00+2.5980752e+00j]\n",
      " [4.7683716e-07-2.3841858e-07j 7.5000000e+00+1.2990381e+01j\n",
      "  7.5000005e+00-1.2990381e+01j]]\n",
      "F的傅里叶逆变换：\n",
      "[[10.       -4.7683716e-07j  1.9999998+1.5894572e-07j\n",
      "   7.9999995+3.1789145e-07j]\n",
      " [ 5.       -1.5894572e-07j 12.       +6.3578290e-07j\n",
      "   3.       -1.5894572e-07j]]\n"
     ]
    }
   ],
   "source": [
    "import tensorflow as tf\n",
    "\n",
    "f=tf.constant(\n",
    "    [\n",
    "        [10,2,8],\n",
    "        [5,12,3]\n",
    "    ]\n",
    "    ,tf.complex64\n",
    ")\n",
    "\n",
    "session=tf.Session()\n",
    "\n",
    "F=tf.fft2d(f)\n",
    "\n",
    "print(\"f的二维离散傅里叶变换：\")\n",
    "print(session.run(F))\n",
    "\n",
    "# 计算F的傅里叶逆变换(显然与输入的f是相等的)\n",
    "F_ifft2d=tf.ifft2d(F)\n",
    "\n",
    "print(\"F的傅里叶逆变换：\")\n",
    "print(session.run(F_ifft2d))"
   ]
  },
  {
   "cell_type": "markdown",
   "metadata": {},
   "source": [
    "#### 2.二维与一维傅里叶变换的关系\n",
    "二维离散傅里叶变换也可以分解为先计算每一列的傅里叶变换，再计算每一行的傅里叶变换"
   ]
  },
  {
   "cell_type": "markdown",
   "metadata": {},
   "source": [
    "Tensorflow并没有提供分别计算二维数列的行或列的傅里叶变换，Numpy中函数fft可以实现该功能，具体代码如下："
   ]
  },
  {
   "cell_type": "code",
   "execution_count": 9,
   "metadata": {},
   "outputs": [
    {
     "name": "stdout",
     "output_type": "stream",
     "text": [
      "[[ 15.+0.j  14.+0.j  11.+0.j]\n",
      " [  5.+0.j -10.+0.j   5.+0.j]]\n",
      "[[40.  +0.j          2.5 -2.59807621j  2.5 +2.59807621j]\n",
      " [ 0.  +0.j          7.5+12.99038106j  7.5-12.99038106j]]\n"
     ]
    }
   ],
   "source": [
    "import numpy as np\n",
    "\n",
    "f=np.array(\n",
    "    [\n",
    "        [10,2,8],\n",
    "        [5,12,3]\n",
    "    ]\n",
    "    ,np.complex64\n",
    ")\n",
    "\n",
    "# 第1步：对每一列进行傅里叶变换\n",
    "f_0_fft=np.fft.fft(f,axis=0)\n",
    "print(f_0_fft)\n",
    "\n",
    "# 第2步：将上面结果，分别对每一行进行傅里叶变换\n",
    "f_0_1_fft=np.fft.fft(f_0_fft,axis=1)\n",
    "print(f_0_1_fft)"
   ]
  },
  {
   "cell_type": "markdown",
   "metadata": {},
   "source": [
    "以下代码是先计算每一行的一维傅里叶变换，再计算每一列的一维离散傅里叶变换，代码如下："
   ]
  },
  {
   "cell_type": "code",
   "execution_count": null,
   "metadata": {
    "collapsed": true
   },
   "outputs": [],
   "source": [
    "# 第1步：对每一行进行傅里叶变换\n",
    "f_1_fft=np.fft.fft(f,axis=1)\n",
    "print(f_1_fft)\n",
    "\n",
    "# 第2步：将上面得到的结果，分别对每一列进行傅里叶变换\n",
    "f_1_0_fft=np.fft.fft(f_1_fft,axis=0)\n",
    "print(f_1_0_fft)"
   ]
  },
  {
   "cell_type": "markdown",
   "metadata": {},
   "source": [
    "#### 3.卷积定理"
   ]
  },
  {
   "cell_type": "markdown",
   "metadata": {},
   "source": [
    "假设有高为H，宽为W的二维输入张量I，高为FH，宽为FW的卷积核k，那么I与k的full卷积结果的尺寸是高为H+FH-1,宽为W+FW-1\n",
    "在I的右侧和下层补零，且将I的尺寸扩充到与full卷积的尺寸相同，即\n",
    "\n",
    "其中0≤h≤H+FH-1,0≤w<W+FW-1"
   ]
  },
  {
   "cell_type": "markdown",
   "metadata": {},
   "source": [
    "将卷积核k逆时针翻转180得到k_rotate180,然后对其右侧和下侧进行补零，且将k_rotate180的尺寸可从到和full卷积相同的尺寸\n",
    "\n",
    "其中0≤h≤H+FH-1,0≤w<W+FW-1"
   ]
  },
  {
   "cell_type": "markdown",
   "metadata": {},
   "source": [
    "假设fft2_Ip和fft2_krp分别是I_padded和k_rotate180_padded的傅里叶变换，那么I☆k的傅里叶变换等于fft2_Ip*fft2_krp,即\n",
    "\n",
    "其中*代表对应位置的元素相乘，即对应位置的两个复数相乘，该性质称为卷积定理"
   ]
  },
  {
   "cell_type": "markdown",
   "metadata": {},
   "source": [
    "#### 4.利用卷积定理快速计算卷积\n",
    "我们以上例中的x和K为例，利用卷积定理计算两者的卷积，具体实现代码如下："
   ]
  },
  {
   "cell_type": "code",
   "execution_count": 11,
   "metadata": {},
   "outputs": [
    {
     "name": "stdout",
     "output_type": "stream",
     "text": [
      "[[ 6.+0.j 13.+0.j 30.+0.j 16.+0.j]\n",
      " [20.+0.j 26.+0.j 37.+0.j 42.+0.j]\n",
      " [27.+0.j 45.+0.j 10.+0.j 18.+0.j]\n",
      " [ 7.+0.j 30.+0.j  7.+0.j -4.+0.j]]\n"
     ]
    }
   ],
   "source": [
    "import tensorflow as tf\n",
    "\n",
    "# 输入张量I\n",
    "I=tf.constant(\n",
    "    [\n",
    "        [2,3,8],\n",
    "        [6,1,5],\n",
    "        [7,2,-1]\n",
    "    ]\n",
    "    ,tf.complex64\n",
    ")\n",
    "\n",
    "# 卷积核\n",
    "k=tf.constant(\n",
    "    [\n",
    "        [4,1],\n",
    "        [2,3]\n",
    "    ]\n",
    "    ,tf.complex64\n",
    ")\n",
    "\n",
    "# 对输入张量的下侧和右侧补0\n",
    "I_padded=tf.pad(I,[[0,1],[0,1]])\n",
    "\n",
    "# 翻转卷积核180\n",
    "k_rotate180=tf.reverse(k,[0,1])\n",
    "\n",
    "# 对翻转后的卷积核下侧和右侧补0\n",
    "k_rotate180_padded=tf.pad(k_rotate180,[[0,2],[0,2]])\n",
    "\n",
    "# 二维离散傅里叶变换\n",
    "I_padded_fft2=tf.fft2d(I_padded)\n",
    "k_rotate180_padded_fft2=tf.fft2d(k_rotate180_padded)\n",
    "\n",
    "# 两个二维傅里叶变换对应位置相乘\n",
    "xk_fft2=tf.multiply(I_padded_fft2,k_rotate180_padded_fft2)\n",
    "\n",
    "# 对以上相乘的结果进行傅里叶逆变换\n",
    "xk=tf.ifft2d(xk_fft2)\n",
    "\n",
    "session=tf.Session()\n",
    "\n",
    "# 利用卷积定理计算的full卷积的结果\n",
    "print(session.run(xk))"
   ]
  },
  {
   "cell_type": "markdown",
   "metadata": {},
   "source": [
    "### 四.多深度的离散卷积"
   ]
  },
  {
   "cell_type": "markdown",
   "metadata": {},
   "source": [
    "#### 1.基本的多深度卷积\n",
    "我们以3行3列2深度的三维张量x和2行2列2深度的三维卷积核k的valid卷积为例"
   ]
  },
  {
   "cell_type": "code",
   "execution_count": 12,
   "metadata": {},
   "outputs": [
    {
     "name": "stdout",
     "output_type": "stream",
     "text": [
      "[[[[16.]\n",
      "   [33.]]\n",
      "\n",
      "  [[10.]\n",
      "   [ 3.]]]]\n"
     ]
    }
   ],
   "source": [
    "import tensorflow as tf\n",
    "\n",
    "# 3行3列2深度\n",
    "x=tf.constant(\n",
    "    [\n",
    "        [\n",
    "            [[2,5],[3,3],[8,2]],\n",
    "            [[6,1],[1,2],[5,4]],\n",
    "            [[7,9],[2,3],[-1,3]]\n",
    "        ]\n",
    "    ]\n",
    "    ,tf.float32\n",
    ")\n",
    "\n",
    "# 2行2列2深度的卷积核\n",
    "k=tf.constant(\n",
    "    [\n",
    "        [[[3],[1]],[[-2],[2]]],\n",
    "        [[[-1],[-3]],[[4],[5]]]\n",
    "    ]\n",
    "    ,tf.float32\n",
    ")\n",
    "\n",
    "# 每一深度分别计算乘积，然后求和\n",
    "x_conv2d_k=tf.nn.conv2d(x,k,[1,1,1,1],'VALID')\n",
    "\n",
    "session=tf.Session()\n",
    "\n",
    "print(session.run(x_conv2d_k))"
   ]
  },
  {
   "cell_type": "markdown",
   "metadata": {},
   "source": [
    "即1个3行3列2深度的三维张量与1个2行2列2深度的卷积核的valid卷积结果是1个2行2列1深度的三维张量"
   ]
  },
  {
   "cell_type": "markdown",
   "metadata": {},
   "source": [
    "#### 2.1个张量与多个卷积核的卷积\n",
    "示例理解1个3行3列2深度的张量与3个2行2列2深度的卷积核卷积"
   ]
  },
  {
   "cell_type": "code",
   "execution_count": 13,
   "metadata": {},
   "outputs": [
    {
     "name": "stdout",
     "output_type": "stream",
     "text": [
      "[[[[16. 58. 33.]\n",
      "   [33. 83. 11.]]\n",
      "\n",
      "  [[10.  9. 52.]\n",
      "   [ 3. 40. -5.]]]]\n"
     ]
    }
   ],
   "source": [
    "import tensorflow as tf\n",
    "\n",
    "# 1个3行3列2深度\n",
    "x=tf.constant(\n",
    "    [\n",
    "        [\n",
    "            [[2,5],[3,3],[8,2]],\n",
    "            [[6,1],[1,2],[5,4]],\n",
    "            [[7,9],[2,3],[-1,3]]\n",
    "        ]\n",
    "    ]\n",
    "    ,tf.float32\n",
    ")\n",
    "\n",
    "# 3个2行2列2深度的卷积核\n",
    "kernels=tf.constant(\n",
    "    [\n",
    "        [[[3,1,-3],[1,-1,7]],[[-2,2,-5],[2,7,3]]],\n",
    "        [[[-1,3,1],[-3,-8,6]],[[4,6,8],[5,9,-5]]]\n",
    "    ]\n",
    "    ,tf.float32\n",
    ")\n",
    "\n",
    "# valid卷积\n",
    "validResult=tf.nn.conv2d(x,kernels,[1,1,1,1],'VALID')\n",
    "\n",
    "session=tf.Session()\n",
    "\n",
    "print(session.run(validResult))"
   ]
  },
  {
   "cell_type": "markdown",
   "metadata": {},
   "source": [
    "即1个3行3列2深度的输入张量，与3个2行2列2深度的卷积核的valid卷积结果是1个2行2列3深度的三维张量"
   ]
  },
  {
   "cell_type": "markdown",
   "metadata": {},
   "source": [
    "#### 3.多个张量分别与多个卷积核的卷积\n",
    "以2个3行3列2深度的三维张量，分别与3个2行2列2深度的卷积核进行基本的多深度卷积"
   ]
  },
  {
   "cell_type": "code",
   "execution_count": 14,
   "metadata": {},
   "outputs": [
    {
     "name": "stdout",
     "output_type": "stream",
     "text": [
      "[[[[16. 58. 33.]\n",
      "   [33. 83. 11.]]\n",
      "\n",
      "  [[10.  9. 52.]\n",
      "   [ 3. 40. -5.]]]\n",
      "\n",
      "\n",
      " [[[18. 34. 24.]\n",
      "   [21. 53. -6.]]\n",
      "\n",
      "  [[15. 37. 49.]\n",
      "   [ 5. 29. 18.]]]]\n"
     ]
    }
   ],
   "source": [
    "import tensorflow as tf\n",
    "\n",
    "# 2个3行3列2深度\n",
    "x=tf.constant(\n",
    "    [\n",
    "        [\n",
    "            [[2,5],[3,3],[8,2]],\n",
    "            [[6,1],[1,2],[5,4]],\n",
    "            [[7,9],[2,3],[-1,3]]\n",
    "        ],\n",
    "        [\n",
    "            [[1,3],[2,1],[3,2]],\n",
    "            [[1,1],[2,2],[1,4]],\n",
    "            [[3,4],[4,2],[-1,1]]\n",
    "        ]\n",
    "    ]\n",
    "    ,tf.float32\n",
    ")\n",
    "\n",
    "# 3个2行2列2深度的卷积核\n",
    "kernels=tf.constant(\n",
    "    [\n",
    "        [[[3,1,-3],[1,-1,7]],[[-2,2,-5],[2,7,3]]],\n",
    "        [[[-1,3,1],[-3,-8,6]],[[4,6,8],[5,9,-5]]]\n",
    "    ]\n",
    "    ,tf.float32\n",
    ")\n",
    "\n",
    "# valid卷积\n",
    "validResult=tf.nn.conv2d(x,kernels,[1,1,1,1],'VALID')\n",
    "\n",
    "session=tf.Session()\n",
    "\n",
    "print(session.run(validResult))"
   ]
  },
  {
   "cell_type": "markdown",
   "metadata": {},
   "source": [
    "即2个3行3列2深度的输入张量分别与3个2行2列2深度的卷积核的valid卷积结果是2个2行2列3深度的三维张量(即四维张量)"
   ]
  },
  {
   "cell_type": "markdown",
   "metadata": {},
   "source": [
    "总结：利用函数tf.nn.conv2d可以计算M个深度为D三维张量分别与N个深度为D的卷积核的卷积，其返回结果为M个深度为N的三维张量(即四维张量)"
   ]
  },
  {
   "cell_type": "markdown",
   "metadata": {},
   "source": [
    "函数tf.nn.conv2d实现的是分别在深度上卷积，然后沿深度上求和的卷积计算方式。接下来介绍另一个函数depthwise_conv2d，该函数实现的只是在深度上卷积"
   ]
  },
  {
   "cell_type": "markdown",
   "metadata": {},
   "source": [
    "#### 4.在每一深度上分别卷积\n",
    "函数depthwise_conv2d与函数conv2d的不同之处在于conv2d在每一深度上卷积，然后求和，depthwise_conv2d没有求和这一步，具体代码如下"
   ]
  },
  {
   "cell_type": "markdown",
   "metadata": {},
   "source": [
    "x_depthwise_conv2d_k=tf.nn.depthwise_conv2d(x,k,[1,1,1,1],'VALID')"
   ]
  },
  {
   "cell_type": "code",
   "execution_count": 16,
   "metadata": {},
   "outputs": [
    {
     "name": "stdout",
     "output_type": "stream",
     "text": [
      "[[[[ -2.  18.]\n",
      "   [ 12.  21.]]\n",
      "\n",
      "  [[ 17.  -7.]\n",
      "   [-13.  16.]]]]\n"
     ]
    }
   ],
   "source": [
    "import tensorflow as tf\n",
    "\n",
    "# 3行3列2深度\n",
    "x=tf.constant(\n",
    "    [\n",
    "        [\n",
    "            [[2,5],[3,3],[8,2]],\n",
    "            [[6,1],[1,2],[5,4]],\n",
    "            [[7,9],[2,3],[-1,3]]\n",
    "        ]\n",
    "    ]\n",
    "    ,tf.float32\n",
    ")\n",
    "\n",
    "# 2行2列2深度的卷积核\n",
    "k=tf.constant(\n",
    "    [\n",
    "        [[[3],[1]],[[-2],[2]]],\n",
    "        [[[-1],[-3]],[[4],[5]]]\n",
    "    ]\n",
    "    ,tf.float32\n",
    ")\n",
    "\n",
    "# 每一深度分别计算乘积，然后求和\n",
    "x_depthwise_conv2d_k=tf.nn.depthwise_conv2d(x,k,[1,1,1,1],'VALID')\n",
    "\n",
    "session=tf.Session()\n",
    "\n",
    "print(session.run(x_depthwise_conv2d_k))"
   ]
  },
  {
   "cell_type": "markdown",
   "metadata": {},
   "source": [
    "#### 5.单个张量与多个卷积核在深度上分别卷积\n",
    "以1个3行3列2深度的三维张量与3个2行2列2深度的三维卷积核卷积，因为输入张量与每个卷积核的卷积结果的深度为2，一共与3个卷积核卷积，即有3个卷积结果，将它们在深度方向上连接，所以最终结果的深度为2*3=6"
   ]
  },
  {
   "cell_type": "code",
   "execution_count": 18,
   "metadata": {},
   "outputs": [
    {
     "name": "stdout",
     "output_type": "stream",
     "text": [
      "[[[[ -2.  32.  -7.  18.  26.  40.]\n",
      "   [ 12.  52.  -8.  21.  31.  19.]]\n",
      "\n",
      "  [[ 17.  41.   0.  -7. -32.  52.]\n",
      "   [-13.  11. -34.  16.  29.  29.]]]]\n"
     ]
    }
   ],
   "source": [
    "import tensorflow as tf\n",
    "\n",
    "# 1个3行3列2深度\n",
    "x=tf.constant(\n",
    "    [\n",
    "        [\n",
    "            [[2,5],[3,3],[8,2]],\n",
    "            [[6,1],[1,2],[5,4]],\n",
    "            [[7,9],[2,3],[-1,3]]\n",
    "        ]\n",
    "    ]\n",
    "    ,tf.float32\n",
    ")\n",
    "\n",
    "# 3个2行2列2深度的卷积核\n",
    "kernels=tf.constant(\n",
    "    [\n",
    "        [[[3,1,-3],[1,-1,7]],[[-2,2,-5],[2,7,3]]],\n",
    "        [[[-1,3,1],[-3,-8,6]],[[4,6,8],[5,9,-5]]]\n",
    "    ]\n",
    "    ,tf.float32\n",
    ")\n",
    "\n",
    "# valid卷积\n",
    "x_depthwise_conv2d_k=tf.nn.depthwise_conv2d(x,kernels,[1,1,1,1],'VALID')\n",
    "\n",
    "session=tf.Session()\n",
    "\n",
    "print(session.run(x_depthwise_conv2d_k))"
   ]
  },
  {
   "cell_type": "markdown",
   "metadata": {},
   "source": [
    "总结：1个深度为D的三维张量与N个深度为D的卷积核的depthwise_conv2d卷积，其结果为1个深度为NxD的三维张量"
   ]
  },
  {
   "cell_type": "markdown",
   "metadata": {},
   "source": [
    "#### 6.分离卷积\n",
    "我们介绍Tensorflow实现的另一个关于卷积的函数："
   ]
  },
  {
   "cell_type": "code",
   "execution_count": null,
   "metadata": {
    "collapsed": true
   },
   "outputs": [],
   "source": [
    "separable_conv2d(input,depthwise_filter,pointwise_filter,strides,padding,rate=None,name=None,data_format=None)"
   ]
  },
  {
   "cell_type": "markdown",
   "metadata": {},
   "source": [
    "函数separable_conv2d实现的功能是函数depthwise_conv2d和conv2d的组合，代码如下："
   ]
  },
  {
   "cell_type": "code",
   "execution_count": 19,
   "metadata": {},
   "outputs": [
    {
     "name": "stdout",
     "output_type": "stream",
     "text": [
      "[[[[ 20.]\n",
      "   [  9.]]\n",
      "\n",
      "  [[-24.]\n",
      "   [ 29.]]]]\n"
     ]
    }
   ],
   "source": [
    "import tensorflow as tf\n",
    "\n",
    "# 1个3行3列2深度\n",
    "x=tf.constant(\n",
    "    [\n",
    "        [\n",
    "            [[2,5],[3,3],[8,2]],\n",
    "            [[6,1],[1,2],[5,4]],\n",
    "            [[7,9],[2,3],[-1,3]]\n",
    "        ]\n",
    "    ]\n",
    "    ,tf.float32\n",
    ")\n",
    "\n",
    "# 1个2行2列2深度的卷积核depthwiseFilter\n",
    "depthwise_filter=tf.constant(\n",
    "    [\n",
    "        [[[3],[1]],[[-2],[2]]],\n",
    "        [[[-1],[-3]],[[4],[5]]]\n",
    "    ]\n",
    "    ,tf.float32\n",
    ")\n",
    "\n",
    "# 1行1列2深度的卷积核pointwiseFilter\n",
    "pointwise_filter=tf.constant(\n",
    "    [\n",
    "        [[[-1],[1]]]\n",
    "    ]\n",
    "    ,tf.float32\n",
    ")\n",
    "\n",
    "# 分离卷积\n",
    "result=tf.nn.separable_conv2d(x,depthwise_filter,pointwise_filter,[1,1,1,1],'VALID')\n",
    "\n",
    "session=tf.Session()\n",
    "\n",
    "print(session.run(result))"
   ]
  },
  {
   "cell_type": "markdown",
   "metadata": {},
   "source": [
    "假设有1个3行3列2深度的三维张量，先与3个2行2列2深度的卷积核进行depthwise_conv2d卷积，其结果的深度为6，然后与2个1行1列6深度的卷积核conv2d卷积，最后结果的深度为2，具体代码如下："
   ]
  },
  {
   "cell_type": "code",
   "execution_count": 21,
   "metadata": {},
   "outputs": [
    {
     "name": "stdout",
     "output_type": "stream",
     "text": [
      "[[[[ 32.  -7.]\n",
      "   [ 52.  -8.]]\n",
      "\n",
      "  [[ 41.   0.]\n",
      "   [ 11. -34.]]]]\n"
     ]
    }
   ],
   "source": [
    "import tensorflow as tf\n",
    "\n",
    "# 1个3行3列2深度\n",
    "x=tf.constant(\n",
    "    [\n",
    "        [\n",
    "            [[2,5],[3,3],[8,2]],\n",
    "            [[6,1],[1,2],[5,4]],\n",
    "            [[7,9],[2,3],[-1,3]]\n",
    "        ]\n",
    "    ]\n",
    "    ,tf.float32\n",
    ")\n",
    "\n",
    "# 3个2行2列2深度的卷积核depthwiseFilter\n",
    "depthwise_filter=tf.constant(\n",
    "    [\n",
    "        [[[3,1,-3],[1,-1,7]],[[-2,2,-5],[2,7,3]]],\n",
    "        [[[-1,3,1],[-3,-8,6]],[[4,6,8],[5,9,-5]]]\n",
    "    ]\n",
    "    ,tf.float32\n",
    ")\n",
    "\n",
    "# 2个1行1列6深度的卷积核pointwiseFilter\n",
    "pointwise_filter=tf.constant(\n",
    "    [\n",
    "        [[[0,0],[1,0],[0,1],[0,0],[0,0],[0,0]]]\n",
    "    ],tf.float32\n",
    ")\n",
    "\n",
    "# 分离卷积\n",
    "result=tf.nn.separable_conv2d(x,depthwise_filter,pointwise_filter,[1,1,1,1],'VALID')\n",
    "\n",
    "session=tf.Session()\n",
    "\n",
    "print(session.run(result))"
   ]
  }
 ],
 "metadata": {
  "kernelspec": {
   "display_name": "Python 3",
   "language": "python",
   "name": "python3"
  },
  "language_info": {
   "codemirror_mode": {
    "name": "ipython",
    "version": 3
   },
   "file_extension": ".py",
   "mimetype": "text/x-python",
   "name": "python",
   "nbconvert_exporter": "python",
   "pygments_lexer": "ipython3",
   "version": "3.6.8"
  }
 },
 "nbformat": 4,
 "nbformat_minor": 2
}
