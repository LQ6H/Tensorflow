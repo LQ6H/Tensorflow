{
 "cells": [
  {
   "cell_type": "markdown",
   "metadata": {},
   "source": [
    "# Tensorflow--神经网络处理分类问题"
   ]
  },
  {
   "cell_type": "markdown",
   "metadata": {
    "collapsed": true
   },
   "source": [
    "### 一.TFRecord文件\n",
    "TFRecord是Tensorflow设计的一种存储数据的内置文件格式，可以方便高效地管理数据及这些数据的相关信息，利用它可以将数据快速加载到内存中。接下来介绍如何将数据写入TFRecord文件和从TFRecord中解析数据的过程"
   ]
  },
  {
   "cell_type": "markdown",
   "metadata": {},
   "source": [
    "#### 1.将ndarray写入TFRecord文件\n",
    "假设有3个三维的ndarray，尺寸依次为2行3列4深度，3行3列3深度和2行2列3深度。将这3个ndarray及其对应的尺寸(高，宽，深度)写入文件名为data1.tfrecord的TFRecord文件中"
   ]
  },
  {
   "cell_type": "code",
   "execution_count": 2,
   "metadata": {
    "collapsed": true
   },
   "outputs": [],
   "source": [
    "import tensorflow as tf\n",
    "import numpy as np\n",
    "\n",
    "# 创建文件\n",
    "record=tf.python_io.TFRecordWriter(\"dataTest1.tfrecord\")\n",
    "\n",
    "# 高为2，宽为3，深度为4的三维ndarray\n",
    "array1=np.array(\n",
    "    [\n",
    "        [[1,2,1,2],[3,4,2,9],[5,6,0,3]],\n",
    "        [[7,8,1,6],[9,6,1,7],[1,2,5,9]]\n",
    "    ]\n",
    "    ,np.float32\n",
    ")\n",
    "\n",
    "# 高为3，宽为3，深度为3的三维ndarray\n",
    "array2=np.array(\n",
    "    [\n",
    "        [[11,12,11],[13,14,12],[15,16,13]],\n",
    "        [[17,18,11],[19,10,11],[11,12,15]],\n",
    "        [[13,14,15],[18,11,12],[19,14,10]]\n",
    "    ]\n",
    "    ,np.float32\n",
    ")\n",
    "\n",
    "# 高为2，宽为2，深度为3的三维ndarray\n",
    "array3=np.array(\n",
    "    [\n",
    "        [[21,23,21],[23,24,22]],\n",
    "        [[27,28,24],[29,20,21]]\n",
    "    ]\n",
    "    ,np.float32\n",
    ")\n",
    "\n",
    "# 将上述3个ndarray存入一个列表\n",
    "arrays=[array1,array2,array3]\n",
    "\n",
    "# 循环处理上述列表中的每一个ndarray\n",
    "for array in arrays:\n",
    "    # 计算每一个ndarray的形状\n",
    "    height,width,depth=array.shape\n",
    "    # 将ndarray中的值转为字节类型\n",
    "    array_raw=array.tostring()\n",
    "    # ndarray的值及对应的高，宽及深度\n",
    "    feature={\n",
    "        'array_raw':\n",
    "            tf.train.Feature(\n",
    "                bytes_list=tf.train.BytesList(value=[array_raw])\n",
    "            ),\n",
    "        'height':\n",
    "            tf.train.Feature(int64_list=tf.train.Int64List(value=[height])),\n",
    "        'width':\n",
    "            tf.train.Feature(int64_list=tf.train.Int64List(value=[width])),\n",
    "        'depth':\n",
    "            tf.train.Feature(int64_list=tf.train.Int64List(value=[depth]))\n",
    "    }\n",
    "    \n",
    "    features=tf.train.Features(feature=feature)\n",
    "    example=tf.train.Example(features=features)\n",
    "    # 字符串序列化后写入文件\n",
    "    record.write(example.SerializeToString())\n",
    "    \n",
    "record.close()"
   ]
  },
  {
   "cell_type": "markdown",
   "metadata": {},
   "source": [
    "在上述程序中，首先得到每一个ndarray的高，宽和深度，然后利用ndarray的成员函数tostring()将ndarray转换为字节类型，并将这些数据存储在tf.train.Example对象中，再利用其成员函数SerializeToString()序列化为二进制字符串，最后利用TFRecordWriter对象的成员函数Write将序列化后的二进制字符串写入TFRecord文件中"
   ]
  },
  {
   "cell_type": "markdown",
   "metadata": {},
   "source": [
    "#### 2.从TFRecord解析数据\n",
    "首先利用函数tr.train.string_input_producer读取一个TFRecord文件列表，然后创建一个TFRecordReader对象，利用其成员函数读取TFRecord文件列表，最后利用函数tf,parse_single_example解析文件中的数据"
   ]
  },
  {
   "cell_type": "code",
   "execution_count": 3,
   "metadata": {},
   "outputs": [
    {
     "name": "stdout",
     "output_type": "stream",
     "text": [
      "---第1次解析到的ndarray---\n",
      "[ 1.  2.  1.  2.  3.  4.  2.  9.  5.  6.  0.  3.  7.  8.  1.  6.  9.  6.\n",
      "  1.  7.  1.  2.  5.  9.]\n",
      "---第2次解析到的ndarray---\n",
      "[ 11.  12.  11.  13.  14.  12.  15.  16.  13.  17.  18.  11.  19.  10.  11.\n",
      "  11.  12.  15.  13.  14.  15.  18.  11.  12.  19.  14.  10.]\n",
      "---第3次解析到的ndarray---\n",
      "[ 21.  23.  21.  23.  24.  22.  27.  28.  24.  29.  20.  21.]\n",
      "---第4次解析到的ndarray---\n",
      "[ 1.  2.  1.  2.  3.  4.  2.  9.  5.  6.  0.  3.  7.  8.  1.  6.  9.  6.\n",
      "  1.  7.  1.  2.  5.  9.]\n",
      "---第5次解析到的ndarray---\n",
      "[ 11.  12.  11.  13.  14.  12.  15.  16.  13.  17.  18.  11.  19.  10.  11.\n",
      "  11.  12.  15.  13.  14.  15.  18.  11.  12.  19.  14.  10.]\n"
     ]
    }
   ],
   "source": [
    "import tensorflow as tf\n",
    "import numpy as np\n",
    "\n",
    "# 读取tfrecord文件列表\n",
    "record_queue=tf.train.string_input_producer(['dataTest1.tfrecord'],num_epochs=2)\n",
    "\n",
    "# 创建一个TFRecordReader对象\n",
    "reader=tf.TFRecordReader()\n",
    "_,serialized_example=reader.read(record_queue)\n",
    "\n",
    "# j解析tfrecord中的数据，每次只解析一个\n",
    "features=tf.parse_single_example(\n",
    "    serialized_example,\n",
    "    features={\n",
    "        'array_raw':tf.FixedLenFeature([],tf.string),\n",
    "        'height':tf.FixedLenFeature([],tf.int64),\n",
    "        'width':tf.FixedLenFeature([],tf.int64),\n",
    "        'depth':tf.FixedLenFeature([],tf.int64)\n",
    "    }\n",
    ")\n",
    "\n",
    "# 解析出对应的值\n",
    "array_raw=features['array_raw']\n",
    "array=tf.decode_raw(array_raw,tf.float32) # 解码\n",
    "height=features['height']\n",
    "width=features['width']\n",
    "depth=features['depth']\n",
    "\n",
    "# 创建会话\n",
    "session=tf.Session()\n",
    "session.run(tf.global_variables_initializer())\n",
    "session.run(tf.local_variables_initializer())\n",
    "coord=tf.train.Coordinator()\n",
    "threads=tf.train.start_queue_runners(sess=session,coord=coord)\n",
    "\n",
    "# 循环5次解析文件流中的数据\n",
    "for i in range(5):\n",
    "    ndarray,h,w,d=session.run([array,height,width,depth])\n",
    "    print(\"---第%(num)d次解析到的ndarray---\"%{\"num\":i+1})\n",
    "    print(ndarray)\n",
    "    \n",
    "coord.request_stop()\n",
    "coord.join(threads)\n",
    "session.close()"
   ]
  },
  {
   "cell_type": "markdown",
   "metadata": {},
   "source": [
    "从打印结果可以看出，解析出的每个ndarray都是一维的，这是因为在写入文件时，首先将原数据转换为字节类型。当然我们也可以根据解析到的每个ndarray对应的高，宽和深度将其转换为三维的ndarray"
   ]
  },
  {
   "cell_type": "code",
   "execution_count": 4,
   "metadata": {},
   "outputs": [
    {
     "name": "stdout",
     "output_type": "stream",
     "text": [
      "---第1次解析到ndarray---\n",
      "[[[ 1.  2.  1.  2.]\n",
      "  [ 3.  4.  2.  9.]\n",
      "  [ 5.  6.  0.  3.]]\n",
      "\n",
      " [[ 7.  8.  1.  6.]\n",
      "  [ 9.  6.  1.  7.]\n",
      "  [ 1.  2.  5.  9.]]]\n",
      "---第2次解析到ndarray---\n",
      "[[[ 11.  12.  11.]\n",
      "  [ 13.  14.  12.]\n",
      "  [ 15.  16.  13.]]\n",
      "\n",
      " [[ 17.  18.  11.]\n",
      "  [ 19.  10.  11.]\n",
      "  [ 11.  12.  15.]]\n",
      "\n",
      " [[ 13.  14.  15.]\n",
      "  [ 18.  11.  12.]\n",
      "  [ 19.  14.  10.]]]\n",
      "---第3次解析到ndarray---\n",
      "[[[ 21.  23.  21.]\n",
      "  [ 23.  24.  22.]]\n",
      "\n",
      " [[ 27.  28.  24.]\n",
      "  [ 29.  20.  21.]]]\n",
      "---第4次解析到ndarray---\n",
      "[[[ 1.  2.  1.  2.]\n",
      "  [ 3.  4.  2.  9.]\n",
      "  [ 5.  6.  0.  3.]]\n",
      "\n",
      " [[ 7.  8.  1.  6.]\n",
      "  [ 9.  6.  1.  7.]\n",
      "  [ 1.  2.  5.  9.]]]\n",
      "---第5次解析到ndarray---\n",
      "[[[ 11.  12.  11.]\n",
      "  [ 13.  14.  12.]\n",
      "  [ 15.  16.  13.]]\n",
      "\n",
      " [[ 17.  18.  11.]\n",
      "  [ 19.  10.  11.]\n",
      "  [ 11.  12.  15.]]\n",
      "\n",
      " [[ 13.  14.  15.]\n",
      "  [ 18.  11.  12.]\n",
      "  [ 19.  14.  10.]]]\n"
     ]
    }
   ],
   "source": [
    "import tensorflow as tf\n",
    "import numpy as np\n",
    "\n",
    "# 读取tfrecord文件列表\n",
    "record_queue=tf.train.string_input_producer(['dataTest1.tfrecord'],num_epochs=2)\n",
    "\n",
    "# 创建一个TFRecordReader对象\n",
    "reader=tf.TFRecordReader()\n",
    "_,serialized_example=reader.read(record_queue)\n",
    "\n",
    "# j解析tfrecord中的数据，每次只解析一个\n",
    "features=tf.parse_single_example(\n",
    "    serialized_example,\n",
    "    features={\n",
    "        'array_raw':tf.FixedLenFeature([],tf.string),\n",
    "        'height':tf.FixedLenFeature([],tf.int64),\n",
    "        'width':tf.FixedLenFeature([],tf.int64),\n",
    "        'depth':tf.FixedLenFeature([],tf.int64)\n",
    "    }\n",
    ")\n",
    "\n",
    "# 解析出对应的值\n",
    "array_raw=features['array_raw']\n",
    "array=tf.decode_raw(array_raw,tf.float32) # 解码\n",
    "height=features['height']\n",
    "width=features['width']\n",
    "depth=features['depth']\n",
    "\n",
    "# 创建会话\n",
    "session=tf.Session()\n",
    "session.run(tf.global_variables_initializer())\n",
    "session.run(tf.local_variables_initializer())\n",
    "coord=tf.train.Coordinator()\n",
    "threads=tf.train.start_queue_runners(sess=session,coord=coord)\n",
    "\n",
    "# 循环5次解析文件流中的数据\n",
    "for i in range(5):\n",
    "    ndarray,h,w,d=session.run([array,height,width,depth])\n",
    "    ndarray=np.reshape(ndarray,[h,w,d])\n",
    "    print('---第%(num)d次解析到ndarray---'%{'num':i+1})\n",
    "    print(ndarray)\n",
    "    \n",
    "coord.request_stop()\n",
    "coord.join(threads)\n",
    "session.close()"
   ]
  },
  {
   "cell_type": "markdown",
   "metadata": {},
   "source": [
    "从TFRecord文件中随机解析数据\n",
    "假设有3个尺寸同为1行2列3深度的ndarray，写入文件名为data2.tfrecord的TFRecord文件中，因为已经知道这3个ndarray的尺寸都是1行2列3深度，所以一般只存储原数据即可，不存储其高，宽，深度等信息"
   ]
  },
  {
   "cell_type": "code",
   "execution_count": 1,
   "metadata": {
    "collapsed": true
   },
   "outputs": [],
   "source": [
    "import tensorflow as tf\n",
    "import numpy as np\n",
    "\n",
    "record=tf.python_io.TFRecordWriter(\"dataTest2.tfrecord\")\n",
    "\n",
    "array1=np.array(\n",
    "    [\n",
    "        [[1,2,3],[4,5,6]],\n",
    "    ]\n",
    "    ,np.float32\n",
    ")\n",
    "\n",
    "array2=np.array(\n",
    "    [\n",
    "        [[11,12,13],[14,15,16]],\n",
    "    ]\n",
    "    ,np.float32\n",
    ")\n",
    "\n",
    "array3=np.array(\n",
    "    [\n",
    "        [[21,23,21],[23,24,22]],\n",
    "    ]\n",
    "    ,np.float32\n",
    ")\n",
    "\n",
    "arrays=[array1,array2,array3]\n",
    "\n",
    "for array in arrays:\n",
    "    array_raw=array.tostring()\n",
    "    \n",
    "    feature={\n",
    "        'array_raw':\n",
    "            tf.train.Feature(\n",
    "                bytes_list=tf.train.BytesList(value=[array_raw])\n",
    "            ),\n",
    "    }\n",
    "    \n",
    "    features=tf.train.Features(feature=feature)\n",
    "    example=tf.train.Example(features=features)\n",
    "    \n",
    "    record.write(example.SerializeToString())\n",
    "record.close()"
   ]
  },
  {
   "cell_type": "code",
   "execution_count": null,
   "metadata": {
    "collapsed": true
   },
   "outputs": [],
   "source": [
    "import tensorflow as tf\n",
    "import numpy as np\n",
    "\n",
    "# 创建一个TFRecordReader对象\n",
    "epochs=2\n",
    "reader=tf.TFRecordReader()\n",
    "record_queue=tf.train.string_input_producer(['dataTest2.tfrecord'],num_epochs=epochs)\n",
    "\n",
    "_,serialized_example=reader.read(record_queue)\n",
    "\n",
    "# 解析文件中的图像及其对应的标签\n",
    "features=tf.parse_single_example(\n",
    "    serialized_example,\n",
    "    features={\n",
    "        'array_raw':tf.FixedLenFeature([],tf.string)\n",
    "    }\n",
    ")\n",
    "\n",
    "# 解码二进制数据\n",
    "array_raw=features['array_raw']\n",
    "array_raw=tf.decode_raw(array_raw,tf.float32) # 解码\n",
    "array=tf.reshape(array_raw,[1,2,3])\n",
    "\n",
    "# 每次从文件中读取2个数据\n",
    "BatchSize=2\n",
    "arrays=tf.train.shuffle_batch([array],BatchSize,1000+3*BatchSize,1000)\n",
    "\n",
    "# 创建会话\n",
    "session=tf.Session()\n",
    "session.run(tf.global_variables_initializer())\n",
    "session.run(tf.local_variables_initializer())\n",
    "coord=tf.train.Coordinator()\n",
    "threads=tf.train.start_queue_runners(sess=session,coord=coord)\n",
    "\n",
    "# 循环2次,从文件中随机读取\n",
    "for i in range(2):\n",
    "    arrs=session.run([arrays])\n",
    "    print('---第%(num)d次解析到ndarray---'%{'num':i+1})\n",
    "    print(arrs)\n",
    "    \n",
    "coord.request_stop()\n",
    "coord.join(threads)\n",
    "session.close()"
   ]
  },
  {
   "cell_type": "markdown",
   "metadata": {},
   "source": [
    "### 二.建立分类问题的数学模型"
   ]
  },
  {
   "cell_type": "markdown",
   "metadata": {},
   "source": [
    "#### 1.数据类别\n",
    "Tensorflow通过函数one_hot实现类别的数字化"
   ]
  },
  {
   "cell_type": "code",
   "execution_count": 1,
   "metadata": {},
   "outputs": [
    {
     "name": "stdout",
     "output_type": "stream",
     "text": [
      "[[ 0.  0.  0.  0.  0.  0.  0.  0.  0.  1.]\n",
      " [ 0.  0.  1.  0.  0.  0.  0.  0.  0.  0.]\n",
      " [ 0.  0.  0.  0.  0.  0.  0.  1.  0.  0.]\n",
      " [ 0.  0.  0.  1.  0.  0.  0.  0.  0.  0.]\n",
      " [ 1.  0.  0.  0.  0.  0.  0.  0.  0.  0.]\n",
      " [ 0.  0.  0.  0.  1.  0.  0.  0.  0.  0.]\n",
      " [ 0.  0.  0.  0.  0.  0.  0.  0.  1.  0.]\n",
      " [ 0.  0.  0.  0.  0.  0.  1.  0.  0.  0.]\n",
      " [ 0.  1.  0.  0.  0.  0.  0.  0.  0.  0.]\n",
      " [ 0.  0.  0.  1.  0.  0.  0.  0.  0.  0.]\n",
      " [ 0.  0.  0.  0.  1.  0.  0.  0.  0.  0.]\n",
      " [ 0.  0.  0.  0.  0.  0.  0.  0.  1.  0.]\n",
      " [ 0.  0.  0.  0.  0.  0.  1.  0.  0.  0.]\n",
      " [ 0.  1.  0.  0.  0.  0.  0.  0.  0.  0.]]\n"
     ]
    }
   ],
   "source": [
    "import tensorflow as tf\n",
    "\n",
    "v=tf.one_hot([9,2,7,3,0,4,8,6,1,3,4,8,6,1],depth=10,axis=1,dtype=tf.float32)\n",
    "\n",
    "session=tf.Session()\n",
    "\n",
    "print(session.run(v))"
   ]
  },
  {
   "cell_type": "markdown",
   "metadata": {
    "collapsed": true
   },
   "source": [
    "以上代码中，函数one_hot中的参数depth=10代表有10个类别，axis代表按照每一行存储类别的数字化，因为有10类，所以返回结果有10列"
   ]
  },
  {
   "cell_type": "markdown",
   "metadata": {
    "collapsed": true
   },
   "source": [
    "#### 2.0图像与TFRecord\n",
    "将ndarray写入TFRecord的方法，分别将每一个文件夹下的数字图像保存到一个TFRecord文件中，代码如下："
   ]
  },
  {
   "cell_type": "code",
   "execution_count": 10,
   "metadata": {
    "collapsed": true
   },
   "outputs": [],
   "source": [
    "import tensorflow as tf\n",
    "import os\n",
    "import matplotlib.image as mp_image\n",
    "\n",
    "N=10\n",
    "\n",
    "for label in range(N):\n",
    "    record=tf.python_io.TFRecordWriter(os.path.curdir+'/data/'+'data%(label)d.tfrecord'%{'label':label})\n",
    "    curDir=os.path.curdir+'/data/'+str(label)+'/'\n",
    "    fileList=os.listdir(curDir)\n",
    "    \n",
    "    for name in fileList:\n",
    "        # 图片的路径和名称\n",
    "        imagePath=curDir+name\n",
    "        # 读取图片，数字化为ndarray\n",
    "        image=mp_image.imread(imagePath)\n",
    "        # 将ndarray二进制化\n",
    "        img_raw=image.tostring()\n",
    "        \n",
    "        feature={\n",
    "            'img_raw':\n",
    "            tf.train.Feature(bytes_list=tf.train.BytesList(value=[img_raw])),\n",
    "            'label':\n",
    "            tf.train.Feature(int64_list=tf.train.Int64List(value=[label]))\n",
    "        }\n",
    "        \n",
    "        features=tf.train.Features(feature=feature)\n",
    "        example=tf.train.Example(features=features)\n",
    "        \n",
    "        # 字符串序列化后写入文件\n",
    "        record.write(example.SerializeToString())\n",
    "        \n",
    "    # 关闭文件流\n",
    "    record.close()"
   ]
  },
  {
   "cell_type": "markdown",
   "metadata": {
    "collapsed": true
   },
   "source": [
    "介绍如何从这10个TFRecord文件中，每次随机读取3幅图片和对应的分类标签"
   ]
  },
  {
   "cell_type": "code",
   "execution_count": 11,
   "metadata": {},
   "outputs": [
    {
     "name": "stdout",
     "output_type": "stream",
     "text": [
      "[b'.\\\\data\\\\data0.tfrecord' b'.\\\\data\\\\data1.tfrecord'\n",
      " b'.\\\\data\\\\data2.tfrecord' b'.\\\\data\\\\data3.tfrecord'\n",
      " b'.\\\\data\\\\data4.tfrecord' b'.\\\\data\\\\data5.tfrecord'\n",
      " b'.\\\\data\\\\data6.tfrecord' b'.\\\\data\\\\data7.tfrecord'\n",
      " b'.\\\\data\\\\data8.tfrecord' b'.\\\\data\\\\data9.tfrecord']\n",
      "---第1批图像---\n",
      "---第1批图像中的第1张：标签为2---\n"
     ]
    },
    {
     "data": {
      "image/png": "[encoded data removed]",
      "text/plain": [
       "<Figure size 432x288 with 1 Axes>"
      ]
     },
     "metadata": {},
     "output_type": "display_data"
    },
    {
     "name": "stdout",
     "output_type": "stream",
     "text": [
      "---第1批图像中的第2张：标签为5---\n"
     ]
    },
    {
     "data": {
      "image/png": "[encoded data removed]",
      "text/plain": [
       "<Figure size 432x288 with 1 Axes>"
      ]
     },
     "metadata": {},
     "output_type": "display_data"
    },
    {
     "name": "stdout",
     "output_type": "stream",
     "text": [
      "---第1批图像中的第3张：标签为6---\n"
     ]
    },
    {
     "data": {
      "image/png": "[encoded data removed]",
      "text/plain": [
       "<Figure size 432x288 with 1 Axes>"
      ]
     },
     "metadata": {},
     "output_type": "display_data"
    },
    {
     "name": "stdout",
     "output_type": "stream",
     "text": [
      "---第2批图像---\n",
      "---第2批图像中的第1张：标签为7---\n"
     ]
    },
    {
     "data": {
      "image/png": "[encoded data removed]",
      "text/plain": [
       "<Figure size 432x288 with 1 Axes>"
      ]
     },
     "metadata": {},
     "output_type": "display_data"
    },
    {
     "name": "stdout",
     "output_type": "stream",
     "text": [
      "---第2批图像中的第2张：标签为1---\n"
     ]
    },
    {
     "data": {
      "image/png": "[encoded data removed]",
      "text/plain": [
       "<Figure size 432x288 with 1 Axes>"
      ]
     },
     "metadata": {},
     "output_type": "display_data"
    },
    {
     "name": "stdout",
     "output_type": "stream",
     "text": [
      "---第2批图像中的第3张：标签为3---\n"
     ]
    },
    {
     "data": {
      "image/png": "[encoded data removed]",
      "text/plain": [
       "<Figure size 432x288 with 1 Axes>"
      ]
     },
     "metadata": {},
     "output_type": "display_data"
    }
   ],
   "source": [
    "import os\n",
    "import tensorflow as tf\n",
    "import matplotlib.pyplot as plt\n",
    "\n",
    "H,W=28,28\n",
    "\n",
    "files=tf.train.match_filenames_once(os.path.curdir+\"/data/\"+\"data*.tfrecord\")\n",
    "\n",
    "# 创建TFRecordReader对象\n",
    "reader=tf.TFRecordReader()\n",
    "records_queue=tf.train.string_input_producer(files,num_epochs=2)\n",
    "_,serialized_example=reader.read(records_queue)\n",
    "\n",
    "# 解析文件中的图像及其对应的标签\n",
    "features=tf.parse_single_example(\n",
    "    serialized_example,\n",
    "    features={\n",
    "        'img_raw':tf.FixedLenFeature([],tf.string),\n",
    "        'label':tf.FixedLenFeature([],tf.int64),\n",
    "    }\n",
    ")\n",
    "\n",
    "# 解码二进制数据\n",
    "img_raw=features['img_raw']\n",
    "img_raw=tf.decode_raw(img_raw,tf.uint8)\n",
    "\n",
    "# 转换成图片\n",
    "img=tf.reshape(img_raw,[H,W])\n",
    "\n",
    "# 标签\n",
    "label=features['label']\n",
    "label=tf.cast(label,tf.int64)\n",
    "\n",
    "# 每次从文件中读取3张图片\n",
    "BatchSize=3\n",
    "img,label=tf.train.shuffle_batch([img,label],BatchSize,1000+3*BatchSize,1000)\n",
    "\n",
    "session=tf.Session()\n",
    "session.run(tf.global_variables_initializer())\n",
    "session.run(tf.local_variables_initializer())\n",
    "\n",
    "coord=tf.train.Coordinator()\n",
    "threads=tf.train.start_queue_runners(sess=session,coord=coord)\n",
    "print(session.run(files))\n",
    "\n",
    "# 循环2次解析文件流中的数据\n",
    "for i in range(2):\n",
    "    print(\"---第%(num)d批图像---\"%{'num':i+1})\n",
    "    imgs,labels=session.run([img,label])\n",
    "    \n",
    "    for j in range(BatchSize):\n",
    "        print(\"---第%(num)d批图像中的第%(index)d张：标签为%(l)d---\"%{\"num\":i+1,\"index\":j+1,\"l\":labels[j]})\n",
    "        \n",
    "        plt.imshow(imgs[j,:,:])\n",
    "        plt.show()\n",
    "\n",
    "coord.request_stop()\n",
    "coord.join(threads)\n",
    "session.close()"
   ]
  },
  {
   "cell_type": "markdown",
   "metadata": {
    "collapsed": true
   },
   "source": [
    "#### 3.建立模型\n",
    "全连接神经网络的输入层都是一维张量，而图像是高维张量(灰色图像是二维张量，彩色图像是三维张量)。如果把图像转换为一个全连接神经网络的输入，直接将高维张量拉伸为一个一维张量即可"
   ]
  },
  {
   "cell_type": "code",
   "execution_count": 4,
   "metadata": {},
   "outputs": [
    {
     "name": "stdout",
     "output_type": "stream",
     "text": [
      "[[-13.0977354    4.13779497   5.97057438  -7.29600286 -11.34489727\n",
      "   -4.86154842  -2.60884142   0.13025093  -1.98705816  -0.21878564]]\n"
     ]
    }
   ],
   "source": [
    "import tensorflow as tf\n",
    "\n",
    "# 构建全连接神经网络\n",
    "def net(tensor):\n",
    "    # 输入层，隐含层，输出层的神经元个数\n",
    "    I,H1,O=784,200,10\n",
    "    # 第1层的权重矩阵和偏置\n",
    "    w1=tf.random_normal([I,H1],0,1,tf.float32)\n",
    "    b1=tf.random_normal([H1],0,1,tf.float32)\n",
    "    # 隐含层的结果，采用sigmoid激活函数\n",
    "    l1=tf.matmul(tensor,w1)+b1\n",
    "    sigma1=tf.nn.sigmoid(l1)\n",
    "    \n",
    "    # 第2层的权重矩阵和偏置\n",
    "    w2=tf.random_normal([H1,O],0,1,tf.float32)\n",
    "    b2=tf.random_normal([O],0,1,tf.float32)\n",
    "    \n",
    "    # 输出层的结果\n",
    "    l2=tf.matmul(sigma1,w2)+b2\n",
    "    return l2\n",
    "\n",
    "# 读取图片文件\n",
    "image=tf.read_file(\"0.jpg\",\"r\")\n",
    "\n",
    "# 将图片文件解码为Tensor\n",
    "image_tensor=tf.image.decode_jpeg(image)\n",
    "\n",
    "# 图像张量的形状\n",
    "length=tf.size(image_tensor) # length=28*28\n",
    "\n",
    "# 改变形状，拉伸为1个一维张量，按行存储\n",
    "t=tf.reshape(image_tensor,[1,length])\n",
    "\n",
    "# 数据类型转换，转换为float32类型\n",
    "t=tf.cast(t,tf.float32)\n",
    "\n",
    "# 标准化处理\n",
    "t=t/255.0\n",
    "\n",
    "output=net(t)\n",
    "session=tf.Session()\n",
    "\n",
    "print(session.run(output))"
   ]
  },
  {
   "cell_type": "markdown",
   "metadata": {
    "collapsed": true
   },
   "source": [
    "最理想的情况是经过全连接神经网络的输出结果_y(即全连接神经网络输出层的值)与人工分类的结果y相等"
   ]
  },
  {
   "cell_type": "code",
   "execution_count": null,
   "metadata": {
    "collapsed": true
   },
   "outputs": [],
   "source": []
  },
  {
   "cell_type": "markdown",
   "metadata": {
    "collapsed": true
   },
   "source": [
    "### 三.损失函数与训练模型\n",
    "对于分类问题的损失函数，常用的是sigmoid交叉熵和softmax交叉熵"
   ]
  },
  {
   "cell_type": "markdown",
   "metadata": {
    "collapsed": true
   },
   "source": [
    "#### 1.sigmoid损失函数\n",
    "Tensorflow通过函数sigmoid_cross_entropy_with_logits(labels,logits,name)实现sigmoid交叉熵，其中labels代表人工分类标签，是一个N行C列的二维张量，代表N个样本的标签，每一行代表一个样本的分类标签，logits代表输出层的结果，与labels的尺寸相同，每一行代表一个样本经过全连接神经后的输出值，利用求和函数reduce_sum对函数sigmoid_cross_entropy_logits返回的结果求和，其结果为sigmoid交叉熵损失函数"
   ]
  },
  {
   "cell_type": "code",
   "execution_count": 5,
   "metadata": {},
   "outputs": [
    {
     "name": "stdout",
     "output_type": "stream",
     "text": [
      "24.7825\n"
     ]
    }
   ],
   "source": [
    "import tensorflow as tf\n",
    "\n",
    "# 输出层的值\n",
    "logits=tf.constant(\n",
    "    [\n",
    "        [-13.0977354,4.13779497,5.97057438,-7.29600286,-11.34489727,-4.86154842,-2.60884142,0.13025093,-1.98705816,-0.21878564]\n",
    "    ]\n",
    ")\n",
    "\n",
    "# 人工分类的标签\n",
    "labels=tf.constant([[1,0,0,0,0,0,0,0,0,0]],tf.float32)\n",
    "\n",
    "# sigmoid交叉熵\n",
    "entroy=tf.nn.sigmoid_cross_entropy_with_logits(logits=logits,labels=labels)\n",
    "\n",
    "# 损失值\n",
    "loss=tf.reduce_sum(entroy)\n",
    "\n",
    "session=tf.Session()\n",
    "print(session.run(loss))"
   ]
  },
  {
   "cell_type": "markdown",
   "metadata": {},
   "source": [
    "#### 2.softmax损失函数\n",
    "softmax计算原理\n",
    "Tensorflow通过函数softmax(logits,axis=None,name=None,dim=None)实现softmax处理"
   ]
  },
  {
   "cell_type": "code",
   "execution_count": 6,
   "metadata": {},
   "outputs": [
    {
     "name": "stdout",
     "output_type": "stream",
     "text": [
      "[ 0.19999999  0.5         0.29999998]\n"
     ]
    }
   ],
   "source": [
    "import tensorflow as tf\n",
    "# 输入张量\n",
    "t=tf.constant([2,5,3],tf.float32)\n",
    "x=tf.log(t)\n",
    "# softmax处理\n",
    "s=tf.nn.softmax(x,0)\n",
    "# 创建会话\n",
    "session=tf.Session()\n",
    "\n",
    "print(session.run(s))"
   ]
  },
  {
   "cell_type": "markdown",
   "metadata": {},
   "source": [
    "函数tf.nn.softmax可以处理多维张量"
   ]
  },
  {
   "cell_type": "code",
   "execution_count": 7,
   "metadata": {},
   "outputs": [
    {
     "name": "stdout",
     "output_type": "stream",
     "text": [
      "[[ 0.21194157  0.57611692  0.21194157]\n",
      " [ 0.33333334  0.33333334  0.33333334]]\n"
     ]
    }
   ],
   "source": [
    "import tensorflow as tf\n",
    "\n",
    "# 输入张量\n",
    "x=tf.constant(\n",
    "    [\n",
    "        [1,2,1],\n",
    "        [2,2,2]\n",
    "    ]\n",
    "    ,tf.float32\n",
    ")\n",
    "\n",
    "# 分别对每一行(沿\"1\"方向)进行softmax处理\n",
    "s=tf.nn.softmax(x,1)\n",
    "\n",
    "session=tf.Session()\n",
    "\n",
    "print(session.run(s))"
   ]
  },
  {
   "cell_type": "markdown",
   "metadata": {},
   "source": [
    "softmax交叉熵及softmax损失函数\n",
    "利用Tensorflow的求和函数reduce_sum和函数tf.nn.softmax定义softmax损失函数为tf.reduce_sum(-y*tf.nn.softmax(_y,1))"
   ]
  },
  {
   "cell_type": "code",
   "execution_count": 8,
   "metadata": {},
   "outputs": [
    {
     "name": "stdout",
     "output_type": "stream",
     "text": [
      "2.25979\n"
     ]
    }
   ],
   "source": [
    "import tensorflow as tf\n",
    "\n",
    "# 假设_y为全连接神经网络的输出(输出层有3个神经元)\n",
    "_y=tf.constant(\n",
    "    [\n",
    "        [0,2,-3],\n",
    "        [4,-5,6]\n",
    "    ]\n",
    "    ,tf.float32\n",
    ")\n",
    "\n",
    "# 人工分类结果\n",
    "y=tf.constant(\n",
    "    [\n",
    "        [1,0,0],\n",
    "        [0,0,1]]\n",
    "    ,tf.float32\n",
    ")\n",
    "\n",
    "# softmax熵\n",
    "_y_softmax=tf.nn.softmax(_y)\n",
    "entroy=tf.reduce_sum(-y*tf.log(_y_softmax),1)\n",
    "\n",
    "# loss损失函数\n",
    "loss=tf.reduce_sum(entroy)\n",
    "\n",
    "session=tf.Session()\n",
    "\n",
    "print(session.run(loss))"
   ]
  },
  {
   "cell_type": "markdown",
   "metadata": {},
   "source": [
    "以上代码实现中，使用了乘法运算符*和函数tf.nn.softmax实现softmax熵，Tensorflow将这两个运算封装成了一个函数softmax_cross_entroy_with_logits_v2,\n",
    "即tf.reduce_sum(tf.nn.softmax_cross_entropy_with_logits(logits,labels))"
   ]
  },
  {
   "cell_type": "code",
   "execution_count": 10,
   "metadata": {},
   "outputs": [
    {
     "name": "stdout",
     "output_type": "stream",
     "text": [
      "2.25979\n"
     ]
    }
   ],
   "source": [
    "import tensorflow as tf\n",
    "\n",
    "# 假设_y为全连接神经网络的输出(输出层有3个神经元)\n",
    "_y=tf.constant([[0,2,-3],[4,-5,6]],tf.float32)\n",
    "\n",
    "# 人工分类结果\n",
    "y=tf.constant([[1,0,0],[0,0,1]],tf.float32)\n",
    "\n",
    "# softmax熵\n",
    "entroy=tf.nn.softmax_cross_entropy_with_logits(logits=_y,labels=y)\n",
    "\n",
    "# loss损失函数\n",
    "loss=tf.reduce_sum(entroy)\n",
    "\n",
    "session=tf.Session()\n",
    "\n",
    "print(session.run(loss))"
   ]
  },
  {
   "cell_type": "markdown",
   "metadata": {},
   "source": [
    "#### 3.训练和评估模型\n",
    "直到现在我们已经掌握了：\n",
    "1.从TFRecord中解析数据\n",
    "2.构建全连接神经网络\n",
    "3.构造损失函数\n",
    "4.梯度下降法"
   ]
  },
  {
   "cell_type": "code",
   "execution_count": 11,
   "metadata": {},
   "outputs": [
    {
     "ename": "OutOfRangeError",
     "evalue": "RandomShuffleQueue '_2_shuffle_batch/random_shuffle_queue' is closed and has insufficient elements (requested 3, current size 1)\n\t [[Node: shuffle_batch = QueueDequeueManyV2[component_types=[DT_FLOAT, DT_FLOAT], timeout_ms=-1, _device=\"/job:localhost/replica:0/task:0/cpu:0\"](shuffle_batch/random_shuffle_queue, shuffle_batch/n)]]\n\nCaused by op 'shuffle_batch', defined at:\n  File \"E:\\Anaconda\\envs\\mytensorflow\\lib\\runpy.py\", line 193, in _run_module_as_main\n    \"__main__\", mod_spec)\n  File \"E:\\Anaconda\\envs\\mytensorflow\\lib\\runpy.py\", line 85, in _run_code\n    exec(code, run_globals)\n  File \"E:\\Anaconda\\envs\\mytensorflow\\lib\\site-packages\\ipykernel_launcher.py\", line 16, in <module>\n    app.launch_new_instance()\n  File \"E:\\Anaconda\\envs\\mytensorflow\\lib\\site-packages\\traitlets\\config\\application.py\", line 658, in launch_instance\n    app.start()\n  File \"E:\\Anaconda\\envs\\mytensorflow\\lib\\site-packages\\ipykernel\\kernelapp.py\", line 477, in start\n    ioloop.IOLoop.instance().start()\n  File \"E:\\Anaconda\\envs\\mytensorflow\\lib\\site-packages\\zmq\\eventloop\\ioloop.py\", line 177, in start\n    super(ZMQIOLoop, self).start()\n  File \"E:\\Anaconda\\envs\\mytensorflow\\lib\\site-packages\\tornado\\ioloop.py\", line 888, in start\n    handler_func(fd_obj, events)\n  File \"E:\\Anaconda\\envs\\mytensorflow\\lib\\site-packages\\tornado\\stack_context.py\", line 277, in null_wrapper\n    return fn(*args, **kwargs)\n  File \"E:\\Anaconda\\envs\\mytensorflow\\lib\\site-packages\\zmq\\eventloop\\zmqstream.py\", line 440, in _handle_events\n    self._handle_recv()\n  File \"E:\\Anaconda\\envs\\mytensorflow\\lib\\site-packages\\zmq\\eventloop\\zmqstream.py\", line 472, in _handle_recv\n    self._run_callback(callback, msg)\n  File \"E:\\Anaconda\\envs\\mytensorflow\\lib\\site-packages\\zmq\\eventloop\\zmqstream.py\", line 414, in _run_callback\n    callback(*args, **kwargs)\n  File \"E:\\Anaconda\\envs\\mytensorflow\\lib\\site-packages\\tornado\\stack_context.py\", line 277, in null_wrapper\n    return fn(*args, **kwargs)\n  File \"E:\\Anaconda\\envs\\mytensorflow\\lib\\site-packages\\ipykernel\\kernelbase.py\", line 283, in dispatcher\n    return self.dispatch_shell(stream, msg)\n  File \"E:\\Anaconda\\envs\\mytensorflow\\lib\\site-packages\\ipykernel\\kernelbase.py\", line 235, in dispatch_shell\n    handler(stream, idents, msg)\n  File \"E:\\Anaconda\\envs\\mytensorflow\\lib\\site-packages\\ipykernel\\kernelbase.py\", line 399, in execute_request\n    user_expressions, allow_stdin)\n  File \"E:\\Anaconda\\envs\\mytensorflow\\lib\\site-packages\\ipykernel\\ipkernel.py\", line 196, in do_execute\n    res = shell.run_cell(code, store_history=store_history, silent=silent)\n  File \"E:\\Anaconda\\envs\\mytensorflow\\lib\\site-packages\\ipykernel\\zmqshell.py\", line 533, in run_cell\n    return super(ZMQInteractiveShell, self).run_cell(*args, **kwargs)\n  File \"E:\\Anaconda\\envs\\mytensorflow\\lib\\site-packages\\IPython\\core\\interactiveshell.py\", line 2698, in run_cell\n    interactivity=interactivity, compiler=compiler, result=result)\n  File \"E:\\Anaconda\\envs\\mytensorflow\\lib\\site-packages\\IPython\\core\\interactiveshell.py\", line 2802, in run_ast_nodes\n    if self.run_code(code, result):\n  File \"E:\\Anaconda\\envs\\mytensorflow\\lib\\site-packages\\IPython\\core\\interactiveshell.py\", line 2862, in run_code\n    exec(code_obj, self.user_global_ns, self.user_ns)\n  File \"<ipython-input-11-33348cd51422>\", line 44, in <module>\n    imgs,labels_onehot=tf.train.shuffle_batch([img,label_onehot],BatchSize,1000+3*BatchSize,1000)\n  File \"E:\\Anaconda\\envs\\mytensorflow\\lib\\site-packages\\tensorflow\\python\\training\\input.py\", line 1217, in shuffle_batch\n    name=name)\n  File \"E:\\Anaconda\\envs\\mytensorflow\\lib\\site-packages\\tensorflow\\python\\training\\input.py\", line 788, in _shuffle_batch\n    dequeued = queue.dequeue_many(batch_size, name=name)\n  File \"E:\\Anaconda\\envs\\mytensorflow\\lib\\site-packages\\tensorflow\\python\\ops\\data_flow_ops.py\", line 457, in dequeue_many\n    self._queue_ref, n=n, component_types=self._dtypes, name=name)\n  File \"E:\\Anaconda\\envs\\mytensorflow\\lib\\site-packages\\tensorflow\\python\\ops\\gen_data_flow_ops.py\", line 946, in _queue_dequeue_many_v2\n    timeout_ms=timeout_ms, name=name)\n  File \"E:\\Anaconda\\envs\\mytensorflow\\lib\\site-packages\\tensorflow\\python\\framework\\op_def_library.py\", line 767, in apply_op\n    op_def=op_def)\n  File \"E:\\Anaconda\\envs\\mytensorflow\\lib\\site-packages\\tensorflow\\python\\framework\\ops.py\", line 2506, in create_op\n    original_op=self._default_original_op, op_def=op_def)\n  File \"E:\\Anaconda\\envs\\mytensorflow\\lib\\site-packages\\tensorflow\\python\\framework\\ops.py\", line 1269, in __init__\n    self._traceback = _extract_stack()\n\nOutOfRangeError (see above for traceback): RandomShuffleQueue '_2_shuffle_batch/random_shuffle_queue' is closed and has insufficient elements (requested 3, current size 1)\n\t [[Node: shuffle_batch = QueueDequeueManyV2[component_types=[DT_FLOAT, DT_FLOAT], timeout_ms=-1, _device=\"/job:localhost/replica:0/task:0/cpu:0\"](shuffle_batch/random_shuffle_queue, shuffle_batch/n)]]\n",
     "output_type": "error",
     "traceback": [
      "\u001b[1;31m---------------------------------------------------------------------------\u001b[0m",
      "\u001b[1;31mOutOfRangeError\u001b[0m                           Traceback (most recent call last)",
      "\u001b[1;32mE:\\Anaconda\\envs\\mytensorflow\\lib\\site-packages\\tensorflow\\python\\client\\session.py\u001b[0m in \u001b[0;36m_do_call\u001b[1;34m(self, fn, *args)\u001b[0m\n\u001b[0;32m   1138\u001b[0m     \u001b[1;32mtry\u001b[0m\u001b[1;33m:\u001b[0m\u001b[1;33m\u001b[0m\u001b[1;33m\u001b[0m\u001b[0m\n\u001b[1;32m-> 1139\u001b[1;33m       \u001b[1;32mreturn\u001b[0m \u001b[0mfn\u001b[0m\u001b[1;33m(\u001b[0m\u001b[1;33m*\u001b[0m\u001b[0margs\u001b[0m\u001b[1;33m)\u001b[0m\u001b[1;33m\u001b[0m\u001b[1;33m\u001b[0m\u001b[0m\n\u001b[0m\u001b[0;32m   1140\u001b[0m     \u001b[1;32mexcept\u001b[0m \u001b[0merrors\u001b[0m\u001b[1;33m.\u001b[0m\u001b[0mOpError\u001b[0m \u001b[1;32mas\u001b[0m \u001b[0me\u001b[0m\u001b[1;33m:\u001b[0m\u001b[1;33m\u001b[0m\u001b[1;33m\u001b[0m\u001b[0m\n",
      "\u001b[1;32mE:\\Anaconda\\envs\\mytensorflow\\lib\\site-packages\\tensorflow\\python\\client\\session.py\u001b[0m in \u001b[0;36m_run_fn\u001b[1;34m(session, feed_dict, fetch_list, target_list, options, run_metadata)\u001b[0m\n\u001b[0;32m   1120\u001b[0m                                  \u001b[0mfeed_dict\u001b[0m\u001b[1;33m,\u001b[0m \u001b[0mfetch_list\u001b[0m\u001b[1;33m,\u001b[0m \u001b[0mtarget_list\u001b[0m\u001b[1;33m,\u001b[0m\u001b[1;33m\u001b[0m\u001b[1;33m\u001b[0m\u001b[0m\n\u001b[1;32m-> 1121\u001b[1;33m                                  status, run_metadata)\n\u001b[0m\u001b[0;32m   1122\u001b[0m \u001b[1;33m\u001b[0m\u001b[0m\n",
      "\u001b[1;32mE:\\Anaconda\\envs\\mytensorflow\\lib\\contextlib.py\u001b[0m in \u001b[0;36m__exit__\u001b[1;34m(self, type, value, traceback)\u001b[0m\n\u001b[0;32m     87\u001b[0m             \u001b[1;32mtry\u001b[0m\u001b[1;33m:\u001b[0m\u001b[1;33m\u001b[0m\u001b[1;33m\u001b[0m\u001b[0m\n\u001b[1;32m---> 88\u001b[1;33m                 \u001b[0mnext\u001b[0m\u001b[1;33m(\u001b[0m\u001b[0mself\u001b[0m\u001b[1;33m.\u001b[0m\u001b[0mgen\u001b[0m\u001b[1;33m)\u001b[0m\u001b[1;33m\u001b[0m\u001b[1;33m\u001b[0m\u001b[0m\n\u001b[0m\u001b[0;32m     89\u001b[0m             \u001b[1;32mexcept\u001b[0m \u001b[0mStopIteration\u001b[0m\u001b[1;33m:\u001b[0m\u001b[1;33m\u001b[0m\u001b[1;33m\u001b[0m\u001b[0m\n",
      "\u001b[1;32mE:\\Anaconda\\envs\\mytensorflow\\lib\\site-packages\\tensorflow\\python\\framework\\errors_impl.py\u001b[0m in \u001b[0;36mraise_exception_on_not_ok_status\u001b[1;34m()\u001b[0m\n\u001b[0;32m    465\u001b[0m           \u001b[0mcompat\u001b[0m\u001b[1;33m.\u001b[0m\u001b[0mas_text\u001b[0m\u001b[1;33m(\u001b[0m\u001b[0mpywrap_tensorflow\u001b[0m\u001b[1;33m.\u001b[0m\u001b[0mTF_Message\u001b[0m\u001b[1;33m(\u001b[0m\u001b[0mstatus\u001b[0m\u001b[1;33m)\u001b[0m\u001b[1;33m)\u001b[0m\u001b[1;33m,\u001b[0m\u001b[1;33m\u001b[0m\u001b[1;33m\u001b[0m\u001b[0m\n\u001b[1;32m--> 466\u001b[1;33m           pywrap_tensorflow.TF_GetCode(status))\n\u001b[0m\u001b[0;32m    467\u001b[0m   \u001b[1;32mfinally\u001b[0m\u001b[1;33m:\u001b[0m\u001b[1;33m\u001b[0m\u001b[1;33m\u001b[0m\u001b[0m\n",
      "\u001b[1;31mOutOfRangeError\u001b[0m: RandomShuffleQueue '_2_shuffle_batch/random_shuffle_queue' is closed and has insufficient elements (requested 3, current size 1)\n\t [[Node: shuffle_batch = QueueDequeueManyV2[component_types=[DT_FLOAT, DT_FLOAT], timeout_ms=-1, _device=\"/job:localhost/replica:0/task:0/cpu:0\"](shuffle_batch/random_shuffle_queue, shuffle_batch/n)]]",
      "\nDuring handling of the above exception, another exception occurred:\n",
      "\u001b[1;31mOutOfRangeError\u001b[0m                           Traceback (most recent call last)",
      "\u001b[1;32m<ipython-input-11-33348cd51422>\u001b[0m in \u001b[0;36m<module>\u001b[1;34m()\u001b[0m\n\u001b[0;32m     80\u001b[0m     \u001b[1;32mfor\u001b[0m \u001b[0mn\u001b[0m \u001b[1;32min\u001b[0m \u001b[0mrange\u001b[0m\u001b[1;33m(\u001b[0m\u001b[0mint\u001b[0m\u001b[1;33m(\u001b[0m\u001b[0mnums\u001b[0m\u001b[1;33m/\u001b[0m\u001b[0mBatchSize\u001b[0m\u001b[1;33m)\u001b[0m\u001b[1;33m)\u001b[0m\u001b[1;33m:\u001b[0m\u001b[1;33m\u001b[0m\u001b[1;33m\u001b[0m\u001b[0m\n\u001b[0;32m     81\u001b[0m         \u001b[0mimgs_arr\u001b[0m\u001b[1;33m,\u001b[0m\u001b[0mlables_onehot_arr\u001b[0m\u001b[1;33m=\u001b[0m\u001b[0msession\u001b[0m\u001b[1;33m.\u001b[0m\u001b[0mrun\u001b[0m\u001b[1;33m(\u001b[0m\u001b[1;33m[\u001b[0m\u001b[0mimgs\u001b[0m\u001b[1;33m,\u001b[0m\u001b[0mlabels_onehot\u001b[0m\u001b[1;33m]\u001b[0m\u001b[1;33m)\u001b[0m\u001b[1;33m\u001b[0m\u001b[1;33m\u001b[0m\u001b[0m\n\u001b[1;32m---> 82\u001b[1;33m         \u001b[0msession\u001b[0m\u001b[1;33m.\u001b[0m\u001b[0mrun\u001b[0m\u001b[1;33m(\u001b[0m\u001b[0mopti\u001b[0m\u001b[1;33m,\u001b[0m\u001b[0mfeed_dict\u001b[0m\u001b[1;33m=\u001b[0m\u001b[1;33m{\u001b[0m\u001b[0mx\u001b[0m\u001b[1;33m:\u001b[0m\u001b[0mimgs_arr\u001b[0m\u001b[1;33m,\u001b[0m\u001b[0mlabels\u001b[0m\u001b[1;33m:\u001b[0m\u001b[0mlables_onehot_arr\u001b[0m\u001b[1;33m}\u001b[0m\u001b[1;33m)\u001b[0m\u001b[1;33m\u001b[0m\u001b[1;33m\u001b[0m\u001b[0m\n\u001b[0m\u001b[0;32m     83\u001b[0m \u001b[1;33m\u001b[0m\u001b[0m\n\u001b[0;32m     84\u001b[0m \u001b[0mcoord\u001b[0m\u001b[1;33m.\u001b[0m\u001b[0mrequest_stop\u001b[0m\u001b[1;33m(\u001b[0m\u001b[1;33m)\u001b[0m\u001b[1;33m\u001b[0m\u001b[1;33m\u001b[0m\u001b[0m\n",
      "\u001b[1;32mE:\\Anaconda\\envs\\mytensorflow\\lib\\site-packages\\tensorflow\\python\\client\\session.py\u001b[0m in \u001b[0;36mrun\u001b[1;34m(self, fetches, feed_dict, options, run_metadata)\u001b[0m\n\u001b[0;32m    787\u001b[0m     \u001b[1;32mtry\u001b[0m\u001b[1;33m:\u001b[0m\u001b[1;33m\u001b[0m\u001b[1;33m\u001b[0m\u001b[0m\n\u001b[0;32m    788\u001b[0m       result = self._run(None, fetches, feed_dict, options_ptr,\n\u001b[1;32m--> 789\u001b[1;33m                          run_metadata_ptr)\n\u001b[0m\u001b[0;32m    790\u001b[0m       \u001b[1;32mif\u001b[0m \u001b[0mrun_metadata\u001b[0m\u001b[1;33m:\u001b[0m\u001b[1;33m\u001b[0m\u001b[1;33m\u001b[0m\u001b[0m\n\u001b[0;32m    791\u001b[0m         \u001b[0mproto_data\u001b[0m \u001b[1;33m=\u001b[0m \u001b[0mtf_session\u001b[0m\u001b[1;33m.\u001b[0m\u001b[0mTF_GetBuffer\u001b[0m\u001b[1;33m(\u001b[0m\u001b[0mrun_metadata_ptr\u001b[0m\u001b[1;33m)\u001b[0m\u001b[1;33m\u001b[0m\u001b[1;33m\u001b[0m\u001b[0m\n",
      "\u001b[1;32mE:\\Anaconda\\envs\\mytensorflow\\lib\\site-packages\\tensorflow\\python\\client\\session.py\u001b[0m in \u001b[0;36m_run\u001b[1;34m(self, handle, fetches, feed_dict, options, run_metadata)\u001b[0m\n\u001b[0;32m    995\u001b[0m     \u001b[1;32mif\u001b[0m \u001b[0mfinal_fetches\u001b[0m \u001b[1;32mor\u001b[0m \u001b[0mfinal_targets\u001b[0m\u001b[1;33m:\u001b[0m\u001b[1;33m\u001b[0m\u001b[1;33m\u001b[0m\u001b[0m\n\u001b[0;32m    996\u001b[0m       results = self._do_run(handle, final_targets, final_fetches,\n\u001b[1;32m--> 997\u001b[1;33m                              feed_dict_string, options, run_metadata)\n\u001b[0m\u001b[0;32m    998\u001b[0m     \u001b[1;32melse\u001b[0m\u001b[1;33m:\u001b[0m\u001b[1;33m\u001b[0m\u001b[1;33m\u001b[0m\u001b[0m\n\u001b[0;32m    999\u001b[0m       \u001b[0mresults\u001b[0m \u001b[1;33m=\u001b[0m \u001b[1;33m[\u001b[0m\u001b[1;33m]\u001b[0m\u001b[1;33m\u001b[0m\u001b[1;33m\u001b[0m\u001b[0m\n",
      "\u001b[1;32mE:\\Anaconda\\envs\\mytensorflow\\lib\\site-packages\\tensorflow\\python\\client\\session.py\u001b[0m in \u001b[0;36m_do_run\u001b[1;34m(self, handle, target_list, fetch_list, feed_dict, options, run_metadata)\u001b[0m\n\u001b[0;32m   1130\u001b[0m     \u001b[1;32mif\u001b[0m \u001b[0mhandle\u001b[0m \u001b[1;32mis\u001b[0m \u001b[1;32mNone\u001b[0m\u001b[1;33m:\u001b[0m\u001b[1;33m\u001b[0m\u001b[1;33m\u001b[0m\u001b[0m\n\u001b[0;32m   1131\u001b[0m       return self._do_call(_run_fn, self._session, feed_dict, fetch_list,\n\u001b[1;32m-> 1132\u001b[1;33m                            target_list, options, run_metadata)\n\u001b[0m\u001b[0;32m   1133\u001b[0m     \u001b[1;32melse\u001b[0m\u001b[1;33m:\u001b[0m\u001b[1;33m\u001b[0m\u001b[1;33m\u001b[0m\u001b[0m\n\u001b[0;32m   1134\u001b[0m       return self._do_call(_prun_fn, self._session, handle, feed_dict,\n",
      "\u001b[1;32mE:\\Anaconda\\envs\\mytensorflow\\lib\\site-packages\\tensorflow\\python\\client\\session.py\u001b[0m in \u001b[0;36m_do_call\u001b[1;34m(self, fn, *args)\u001b[0m\n\u001b[0;32m   1150\u001b[0m         \u001b[1;32mexcept\u001b[0m \u001b[0mKeyError\u001b[0m\u001b[1;33m:\u001b[0m\u001b[1;33m\u001b[0m\u001b[1;33m\u001b[0m\u001b[0m\n\u001b[0;32m   1151\u001b[0m           \u001b[1;32mpass\u001b[0m\u001b[1;33m\u001b[0m\u001b[1;33m\u001b[0m\u001b[0m\n\u001b[1;32m-> 1152\u001b[1;33m       \u001b[1;32mraise\u001b[0m \u001b[0mtype\u001b[0m\u001b[1;33m(\u001b[0m\u001b[0me\u001b[0m\u001b[1;33m)\u001b[0m\u001b[1;33m(\u001b[0m\u001b[0mnode_def\u001b[0m\u001b[1;33m,\u001b[0m \u001b[0mop\u001b[0m\u001b[1;33m,\u001b[0m \u001b[0mmessage\u001b[0m\u001b[1;33m)\u001b[0m\u001b[1;33m\u001b[0m\u001b[1;33m\u001b[0m\u001b[0m\n\u001b[0m\u001b[0;32m   1153\u001b[0m \u001b[1;33m\u001b[0m\u001b[0m\n\u001b[0;32m   1154\u001b[0m   \u001b[1;32mdef\u001b[0m \u001b[0m_extend_graph\u001b[0m\u001b[1;33m(\u001b[0m\u001b[0mself\u001b[0m\u001b[1;33m)\u001b[0m\u001b[1;33m:\u001b[0m\u001b[1;33m\u001b[0m\u001b[1;33m\u001b[0m\u001b[0m\n",
      "\u001b[1;31mOutOfRangeError\u001b[0m: RandomShuffleQueue '_2_shuffle_batch/random_shuffle_queue' is closed and has insufficient elements (requested 3, current size 1)\n\t [[Node: shuffle_batch = QueueDequeueManyV2[component_types=[DT_FLOAT, DT_FLOAT], timeout_ms=-1, _device=\"/job:localhost/replica:0/task:0/cpu:0\"](shuffle_batch/random_shuffle_queue, shuffle_batch/n)]]\n\nCaused by op 'shuffle_batch', defined at:\n  File \"E:\\Anaconda\\envs\\mytensorflow\\lib\\runpy.py\", line 193, in _run_module_as_main\n    \"__main__\", mod_spec)\n  File \"E:\\Anaconda\\envs\\mytensorflow\\lib\\runpy.py\", line 85, in _run_code\n    exec(code, run_globals)\n  File \"E:\\Anaconda\\envs\\mytensorflow\\lib\\site-packages\\ipykernel_launcher.py\", line 16, in <module>\n    app.launch_new_instance()\n  File \"E:\\Anaconda\\envs\\mytensorflow\\lib\\site-packages\\traitlets\\config\\application.py\", line 658, in launch_instance\n    app.start()\n  File \"E:\\Anaconda\\envs\\mytensorflow\\lib\\site-packages\\ipykernel\\kernelapp.py\", line 477, in start\n    ioloop.IOLoop.instance().start()\n  File \"E:\\Anaconda\\envs\\mytensorflow\\lib\\site-packages\\zmq\\eventloop\\ioloop.py\", line 177, in start\n    super(ZMQIOLoop, self).start()\n  File \"E:\\Anaconda\\envs\\mytensorflow\\lib\\site-packages\\tornado\\ioloop.py\", line 888, in start\n    handler_func(fd_obj, events)\n  File \"E:\\Anaconda\\envs\\mytensorflow\\lib\\site-packages\\tornado\\stack_context.py\", line 277, in null_wrapper\n    return fn(*args, **kwargs)\n  File \"E:\\Anaconda\\envs\\mytensorflow\\lib\\site-packages\\zmq\\eventloop\\zmqstream.py\", line 440, in _handle_events\n    self._handle_recv()\n  File \"E:\\Anaconda\\envs\\mytensorflow\\lib\\site-packages\\zmq\\eventloop\\zmqstream.py\", line 472, in _handle_recv\n    self._run_callback(callback, msg)\n  File \"E:\\Anaconda\\envs\\mytensorflow\\lib\\site-packages\\zmq\\eventloop\\zmqstream.py\", line 414, in _run_callback\n    callback(*args, **kwargs)\n  File \"E:\\Anaconda\\envs\\mytensorflow\\lib\\site-packages\\tornado\\stack_context.py\", line 277, in null_wrapper\n    return fn(*args, **kwargs)\n  File \"E:\\Anaconda\\envs\\mytensorflow\\lib\\site-packages\\ipykernel\\kernelbase.py\", line 283, in dispatcher\n    return self.dispatch_shell(stream, msg)\n  File \"E:\\Anaconda\\envs\\mytensorflow\\lib\\site-packages\\ipykernel\\kernelbase.py\", line 235, in dispatch_shell\n    handler(stream, idents, msg)\n  File \"E:\\Anaconda\\envs\\mytensorflow\\lib\\site-packages\\ipykernel\\kernelbase.py\", line 399, in execute_request\n    user_expressions, allow_stdin)\n  File \"E:\\Anaconda\\envs\\mytensorflow\\lib\\site-packages\\ipykernel\\ipkernel.py\", line 196, in do_execute\n    res = shell.run_cell(code, store_history=store_history, silent=silent)\n  File \"E:\\Anaconda\\envs\\mytensorflow\\lib\\site-packages\\ipykernel\\zmqshell.py\", line 533, in run_cell\n    return super(ZMQInteractiveShell, self).run_cell(*args, **kwargs)\n  File \"E:\\Anaconda\\envs\\mytensorflow\\lib\\site-packages\\IPython\\core\\interactiveshell.py\", line 2698, in run_cell\n    interactivity=interactivity, compiler=compiler, result=result)\n  File \"E:\\Anaconda\\envs\\mytensorflow\\lib\\site-packages\\IPython\\core\\interactiveshell.py\", line 2802, in run_ast_nodes\n    if self.run_code(code, result):\n  File \"E:\\Anaconda\\envs\\mytensorflow\\lib\\site-packages\\IPython\\core\\interactiveshell.py\", line 2862, in run_code\n    exec(code_obj, self.user_global_ns, self.user_ns)\n  File \"<ipython-input-11-33348cd51422>\", line 44, in <module>\n    imgs,labels_onehot=tf.train.shuffle_batch([img,label_onehot],BatchSize,1000+3*BatchSize,1000)\n  File \"E:\\Anaconda\\envs\\mytensorflow\\lib\\site-packages\\tensorflow\\python\\training\\input.py\", line 1217, in shuffle_batch\n    name=name)\n  File \"E:\\Anaconda\\envs\\mytensorflow\\lib\\site-packages\\tensorflow\\python\\training\\input.py\", line 788, in _shuffle_batch\n    dequeued = queue.dequeue_many(batch_size, name=name)\n  File \"E:\\Anaconda\\envs\\mytensorflow\\lib\\site-packages\\tensorflow\\python\\ops\\data_flow_ops.py\", line 457, in dequeue_many\n    self._queue_ref, n=n, component_types=self._dtypes, name=name)\n  File \"E:\\Anaconda\\envs\\mytensorflow\\lib\\site-packages\\tensorflow\\python\\ops\\gen_data_flow_ops.py\", line 946, in _queue_dequeue_many_v2\n    timeout_ms=timeout_ms, name=name)\n  File \"E:\\Anaconda\\envs\\mytensorflow\\lib\\site-packages\\tensorflow\\python\\framework\\op_def_library.py\", line 767, in apply_op\n    op_def=op_def)\n  File \"E:\\Anaconda\\envs\\mytensorflow\\lib\\site-packages\\tensorflow\\python\\framework\\ops.py\", line 2506, in create_op\n    original_op=self._default_original_op, op_def=op_def)\n  File \"E:\\Anaconda\\envs\\mytensorflow\\lib\\site-packages\\tensorflow\\python\\framework\\ops.py\", line 1269, in __init__\n    self._traceback = _extract_stack()\n\nOutOfRangeError (see above for traceback): RandomShuffleQueue '_2_shuffle_batch/random_shuffle_queue' is closed and has insufficient elements (requested 3, current size 1)\n\t [[Node: shuffle_batch = QueueDequeueManyV2[component_types=[DT_FLOAT, DT_FLOAT], timeout_ms=-1, _device=\"/job:localhost/replica:0/task:0/cpu:0\"](shuffle_batch/random_shuffle_queue, shuffle_batch/n)]]\n"
     ]
    }
   ],
   "source": [
    "import tensorflow as tf\n",
    "import os\n",
    "\n",
    "# 占位符\n",
    "x=tf.placeholder(tf.float32,[None,28*28])\n",
    "labels=tf.placeholder(tf.float32,[None,10])\n",
    "\n",
    "# 第1步：解析数据\n",
    "nums=33 # 所有训练样本的个数\n",
    "\n",
    "# 得到文件夹./data/下的所有tfrecord文件\n",
    "files=tf.train.match_filenames_once(os.path.curdir+\"/data/\"+\"data*.tfrecord\")\n",
    "\n",
    "# 创建TFRecordReader对象\n",
    "num_epochs=1000\n",
    "reader=tf.TFRecordReader()\n",
    "records_queue=tf.train.string_input_producer(files,num_epochs=num_epochs)\n",
    "_,serialized_example=reader.read(records_queue)\n",
    "\n",
    "# 解析文件中的图像及其对应的标签\n",
    "features=tf.parse_single_example(\n",
    "        serialized_example,\n",
    "        features={\n",
    "                'img_raw':tf.FixedLenFeature([],tf.string),\n",
    "                'label':tf.FixedLenFeature([],tf.int64),\n",
    "                }\n",
    "                                 )\n",
    "\n",
    "\n",
    "# 解码二进制数据\n",
    "img_raw=features['img_raw']\n",
    "img_raw=tf.decode_raw(img_raw,tf.uint8)\n",
    "img=tf.reshape(img_raw,[28*28])\n",
    "img=tf.cast(img,tf.float32)\n",
    "img=img/255.0\n",
    "\n",
    "# 标签\n",
    "label=features['label']\n",
    "label=tf.cast(label,tf.int64)\n",
    "label_onehot=tf.one_hot(label,10,dtype=tf.float32)\n",
    "\n",
    "# 每次从文件中读取3张图片\n",
    "BatchSize =3\n",
    "imgs,labels_onehot=tf.train.shuffle_batch([img,label_onehot],BatchSize,1000+3*BatchSize,1000)\n",
    "\n",
    "\n",
    "# 第2步：构建全连接神经网络\n",
    "# 输入层，隐含层，输出层的神经元个数\n",
    "I,H1,O=784,200,10\n",
    "\n",
    "# 输入层到隐含层的权重矩阵和偏置\n",
    "w1=tf.Variable(tf.random_normal([I,H1],0,1,tf.float32),dtype=tf.float32,name='w1')\n",
    "b1=tf.Variable(tf.random_normal([H1],0,1,tf.float32),dtype=tf.float32,name='b1')\n",
    "\n",
    "# 隐含层的结果，采用sigmoid激活函数\n",
    "l1=tf.matmul(x,w1)+b1\n",
    "sigma1=tf.nn.sigmoid(l1)\n",
    "\n",
    "# 第2层的权重及偏置\n",
    "w2=tf.Variable(tf.random_normal([H1,O],0,1,tf.float32),dtype=tf.float32,name='w2')\n",
    "b2=tf.Variable(tf.random_normal([O],0,1,tf.float32),dtype=tf.float32,name='b2')\n",
    "\n",
    "# 输出层的结果\n",
    "logits=tf.matmul(sigma1,w2)+b2\n",
    "\n",
    "# 第3步：构造损失函数\n",
    "loss=tf.reduce_sum(tf.nn.softmax_cross_entropy_with_logits(labels=labels_onehot,logits=logits))\n",
    "\n",
    "# 第4步：梯度下降\n",
    "opti=tf.train.AdamOptimizer(0.001,0.9,0.999,1e-8).minimize(loss)\n",
    "\n",
    "session=tf.Session()\n",
    "session.run(tf.global_variables_initializer())\n",
    "session.run(tf.local_variables_initializer())\n",
    "\n",
    "coord=tf.train.Coordinator()\n",
    "threads=tf.train.start_queue_runners(sess=session,coord=coord)\n",
    "\n",
    "for i in range(num_epochs):\n",
    "    for n in range(int(nums/BatchSize)):\n",
    "        imgs_arr,lables_onehot_arr=session.run([imgs,labels_onehot])\n",
    "        session.run(opti,feed_dict={x:imgs_arr,labels:lables_onehot_arr})\n",
    "        \n",
    "coord.request_stop()\n",
    "coord.join(threads)\n",
    "session.close()"
   ]
  },
  {
   "cell_type": "markdown",
   "metadata": {},
   "source": [
    "以上代码中函数tf.train.shuffle_batch和tf.train.AdamOptimizer的组合使用其实就实现了用随机梯度下降法处理函数的最小值"
   ]
  }
 ],
 "metadata": {
  "kernelspec": {
   "display_name": "Python 3",
   "language": "python",
   "name": "python3"
  },
  "language_info": {
   "codemirror_mode": {
    "name": "ipython",
    "version": 3
   },
   "file_extension": ".py",
   "mimetype": "text/x-python",
   "name": "python",
   "nbconvert_exporter": "python",
   "pygments_lexer": "ipython3",
   "version": "3.6.8"
  }
 },
 "nbformat": 4,
 "nbformat_minor": 2
}
