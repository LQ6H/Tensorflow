{
 "cells": [
  {
   "cell_type": "markdown",
   "metadata": {},
   "source": [
    "# Tensorflow--卷积的梯度反向传播"
   ]
  },
  {
   "cell_type": "markdown",
   "metadata": {},
   "source": [
    "### 一.valid卷积的梯度"
   ]
  },
  {
   "cell_type": "markdown",
   "metadata": {},
   "source": [
    "我们分两种不同的情况讨论valid卷积的梯度：第一种情况，在已知卷积核的情况下，对未知张量求导(即对张量中每一个变量求导)；第二种情况，在已知张量的情况下，对未知卷积核求导(即对卷积核中每一个变量求导)"
   ]
  },
  {
   "cell_type": "markdown",
   "metadata": {},
   "source": [
    "#### 1.已知卷积核，对未知张量求导\n",
    "我们用一个简单的例子理解valid卷积的梯度反向传播。假设有一个3x3的未知张量x，以及已知的2x2的卷积核K"
   ]
  },
  {
   "cell_type": "markdown",
   "metadata": {},
   "source": [
    "Tensorflow提供函数tf.nn.conv2d_backprop_input实现了valid卷积中对未知变量的求导，以上示例对应的代码如下："
   ]
  },
  {
   "cell_type": "code",
   "execution_count": 1,
   "metadata": {},
   "outputs": [
    {
     "name": "stdout",
     "output_type": "stream",
     "text": [
      "[[[[ -3.]\n",
      "   [ -1.]\n",
      "   [  4.]]\n",
      "\n",
      "  [[  1.]\n",
      "   [  1.]\n",
      "   [ -2.]]\n",
      "\n",
      "  [[ 10.]\n",
      "   [  2.]\n",
      "   [-12.]]]]\n"
     ]
    }
   ],
   "source": [
    "import tensorflow as tf\n",
    "\n",
    "# 卷积核\n",
    "kernel=tf.constant(\n",
    "    [\n",
    "        [[[3]],[[4]]],\n",
    "        [[[5]],[[6]]]\n",
    "    ]\n",
    "    ,tf.float32\n",
    ")\n",
    "\n",
    "# 某一函数针对sigma的导数\n",
    "out=tf.constant(\n",
    "    [\n",
    "        [\n",
    "            [[-1],[1]],\n",
    "            [[2],[-2]]\n",
    "        ]\n",
    "    ]\n",
    "    ,tf.float32\n",
    ")\n",
    "\n",
    "\n",
    "# 针对未知变量的导数的方向计算\n",
    "inputValue=tf.nn.conv2d_backprop_input((1,3,3,1),kernel,out,[1,1,1,1],'VALID')\n",
    "\n",
    "session=tf.Session()\n",
    "\n",
    "print(session.run(inputValue))"
   ]
  },
  {
   "cell_type": "markdown",
   "metadata": {},
   "source": [
    "#### 2.已知输入张量，对未知卷积核求导\n",
    "假设已知3行3列的张量x和未知的2行2列的卷积核K"
   ]
  },
  {
   "cell_type": "markdown",
   "metadata": {},
   "source": [
    "Tensorflow提供函数tf.nn.conv2d_backprop_filter实现valid卷积对未知卷积核的求导，以上示例的代码如下："
   ]
  },
  {
   "cell_type": "code",
   "execution_count": 2,
   "metadata": {},
   "outputs": [
    {
     "name": "stdout",
     "output_type": "stream",
     "text": [
      "[[[[-37.]]\n",
      "\n",
      "  [[-47.]]]\n",
      "\n",
      "\n",
      " [[[-67.]]\n",
      "\n",
      "  [[-77.]]]]\n"
     ]
    }
   ],
   "source": [
    "import tensorflow as tf\n",
    "\n",
    "# 输入张量\n",
    "x=tf.constant(\n",
    "    [\n",
    "        [\n",
    "            [[1],[2],[3]],\n",
    "            [[4],[5],[6]],\n",
    "            [[7],[8],[9]]\n",
    "        ]\n",
    "    ]\n",
    "    ,tf.float32\n",
    ")\n",
    "\n",
    "# 某一个函数F对sigma的导数\n",
    "partial_sigma=tf.constant(\n",
    "    [\n",
    "        [\n",
    "            [[-1],[-2]],\n",
    "            [[-3],[-4]]\n",
    "        ]\n",
    "    ]\n",
    "    ,tf.float32\n",
    ")\n",
    "\n",
    "# 某一个函数F对卷积核k的导数\n",
    "partial_sigma_k=tf.nn.conv2d_backprop_filter(x,(2,2,1,1),partial_sigma,[1,1,1,1],'VALID')\n",
    "\n",
    "session=tf.Session()\n",
    "\n",
    "print(session.run(partial_sigma_k))"
   ]
  },
  {
   "cell_type": "markdown",
   "metadata": {},
   "source": [
    "### 二.same卷积的梯度"
   ]
  },
  {
   "cell_type": "markdown",
   "metadata": {},
   "source": [
    "#### 1.已知卷积核，对输入张量求导\n",
    "假设有3行3列的已知张量x，2行2列的未知卷积核K"
   ]
  },
  {
   "cell_type": "code",
   "execution_count": 3,
   "metadata": {},
   "outputs": [
    {
     "name": "stdout",
     "output_type": "stream",
     "text": [
      "[[[[ -3.]\n",
      "   [ -1.]\n",
      "   [  4.]]\n",
      "\n",
      "  [[  1.]\n",
      "   [  1.]\n",
      "   [ -2.]]\n",
      "\n",
      "  [[ 10.]\n",
      "   [  2.]\n",
      "   [-12.]]]]\n"
     ]
    }
   ],
   "source": [
    "import tensorflow as tf\n",
    "\n",
    "# 卷积核\n",
    "kernel=tf.constant(\n",
    "    [\n",
    "        [[[3]],[[4]]],\n",
    "        [[[5]],[[6]]]\n",
    "    ]\n",
    "    ,tf.float32\n",
    ")\n",
    "\n",
    "# 某一函数针对sigma的导数\n",
    "partial_sigma=tf.constant(\n",
    "    [\n",
    "        [\n",
    "            [[-1],[1],[3]],\n",
    "            [[2],[-2],[-4]],\n",
    "            [[-3],[4],[1]]\n",
    "        ]\n",
    "    ]\n",
    "    ,tf.float32\n",
    ")\n",
    "\n",
    "\n",
    "# 针对未知变量的导数的方向计算\n",
    "partial_x=tf.nn.conv2d_backprop_input((1,3,3,1),kernel,partial_sigma,[1,1,1,1],'SAME')\n",
    "\n",
    "session=tf.Session()\n",
    "\n",
    "print(session.run(inputValue))"
   ]
  },
  {
   "cell_type": "markdown",
   "metadata": {},
   "source": [
    "#### 2.已知输入张量，对未知卷积核求导\n",
    "假设已知3行3列的张量x和未知的2行2列的卷积核K"
   ]
  },
  {
   "cell_type": "code",
   "execution_count": 7,
   "metadata": {},
   "outputs": [
    {
     "name": "stdout",
     "output_type": "stream",
     "text": [
      "[[[[ -1.]]\n",
      "\n",
      "  [[-54.]]]\n",
      "\n",
      "\n",
      " [[[-43.]]\n",
      "\n",
      "  [[-77.]]]]\n"
     ]
    }
   ],
   "source": [
    "import tensorflow as tf\n",
    "\n",
    "# 卷积核\n",
    "x=tf.constant(\n",
    "    [\n",
    "        [\n",
    "            [[1],[2],[3]],\n",
    "            [[4],[5],[6]],\n",
    "            [[7],[8],[9]]\n",
    "        ]\n",
    "    ]\n",
    "    ,tf.float32\n",
    ")\n",
    "\n",
    "# 某一函数针对sigma的导数\n",
    "partial_sigma=tf.constant(\n",
    "    [\n",
    "        [\n",
    "            [[-1],[-2],[1]],\n",
    "            [[-3],[-4],[2]],\n",
    "            [[-2],[1],[3]]\n",
    "        ]\n",
    "    ]\n",
    "    ,tf.float32\n",
    ")\n",
    "\n",
    "\n",
    "# 针对未知变量的导数的方向计算\n",
    "partial_sigma_k=tf.nn.conv2d_backprop_filter(x,(2,2,1,1),partial_sigma,[1,1,1,1],'SAME')\n",
    "\n",
    "session=tf.Session()\n",
    "\n",
    "print(session.run(partial_sigma_k))"
   ]
  }
 ],
 "metadata": {
  "kernelspec": {
   "display_name": "Python 3",
   "language": "python",
   "name": "python3"
  },
  "language_info": {
   "codemirror_mode": {
    "name": "ipython",
    "version": 3
   },
   "file_extension": ".py",
   "mimetype": "text/x-python",
   "name": "python",
   "nbconvert_exporter": "python",
   "pygments_lexer": "ipython3",
   "version": "3.6.8"
  }
 },
 "nbformat": 4,
 "nbformat_minor": 2
}
