{
 "cells": [
  {
   "cell_type": "markdown",
   "metadata": {},
   "source": [
    "# Tensorflow--池化操作"
   ]
  },
  {
   "cell_type": "markdown",
   "metadata": {},
   "source": [
    "pool(池化)操作与卷积运算类似，取输入张量的每一个位置的矩形邻域内值的最大值或平均值作为该位置的输出值，如果取的是最大值，则称为最大值池化；如果取的是平均值，则称为平均值池化。pooling操作在图像处理中的应用类似于均值平滑，形态学处理，下采样等操作，与卷积类似，池化也分为same池化和valid池化"
   ]
  },
  {
   "cell_type": "markdown",
   "metadata": {},
   "source": [
    "### 一.same池化\n",
    "same池化的操作方式一般有两种：same最大值池化和same平均值池化"
   ]
  },
  {
   "cell_type": "markdown",
   "metadata": {},
   "source": [
    "#### 1.same最大值池化\n",
    "我们以4行4列的张量x和2行3列的邻域掩码为例，介绍same最大值池化的计算过程\n",
    "\n",
    "same池化的邻域掩码同same卷积的卷积核类似，需要指定锚点，该锚点的位置和same卷积时卷积核的锚点位置类似。其规则一样，不懂请看下面链接：\n",
    "\n",
    "Tensorflow通过函数tf.nn.max_pool实现最大值池化操作"
   ]
  },
  {
   "cell_type": "code",
   "execution_count": 1,
   "metadata": {},
   "outputs": [
    {
     "name": "stdout",
     "output_type": "stream",
     "text": [
      "[[[[6.]\n",
      "   [8.]\n",
      "   [9.]\n",
      "   [9.]]\n",
      "\n",
      "  [[7.]\n",
      "   [7.]\n",
      "   [9.]\n",
      "   [9.]]\n",
      "\n",
      "  [[7.]\n",
      "   [7.]\n",
      "   [8.]\n",
      "   [8.]]\n",
      "\n",
      "  [[4.]\n",
      "   [4.]\n",
      "   [5.]\n",
      "   [5.]]]]\n"
     ]
    }
   ],
   "source": [
    "import tensorflow as tf\n",
    "\n",
    "# 输入形状为[1,4,1,4]的张量\n",
    "value2d=tf.constant(\n",
    "    [\n",
    "        # 第1个4行4列1深度的三维张量\n",
    "        [\n",
    "            [[2],[3],[8],[-2]],\n",
    "            [[6],[1],[5],[9]],\n",
    "            [[7],[2],[-1],[8]],\n",
    "            [[1],[4],[3],[5]]\n",
    "        ]\n",
    "    ]\n",
    "    ,tf.float32\n",
    ")\n",
    "\n",
    "# 最大值池化操作\n",
    "value2d_maxPool=tf.nn.max_pool(value2d,(1,2,3,1),[1,1,1,1],'SAME')\n",
    "\n",
    "session=tf.Session()\n",
    "\n",
    "print(session.run(value2d_maxPool))"
   ]
  },
  {
   "cell_type": "markdown",
   "metadata": {},
   "source": [
    "上述代码处理的是深度为1的三维张量的池化操作，且邻域掩码在沿行和列方向的移动步长均为1"
   ]
  },
  {
   "cell_type": "markdown",
   "metadata": {},
   "source": [
    "#### 2.多深度张量的same池化"
   ]
  },
  {
   "cell_type": "markdown",
   "metadata": {},
   "source": [
    "本质上，多深度到的same最大值池化操作是在每一深度上分别进行池化操作，结果并未改变原张量的深度。我们以3行3列2深度的三维张量和2行2列2深度邻域掩码的same最大值池化操作"
   ]
  },
  {
   "cell_type": "markdown",
   "metadata": {},
   "source": [
    "如果same池化操作过程中邻域掩码沿行和沿列的移动步长均为2"
   ]
  },
  {
   "cell_type": "code",
   "execution_count": 1,
   "metadata": {},
   "outputs": [
    {
     "name": "stdout",
     "output_type": "stream",
     "text": [
      "[[[[ 6.  5.]\n",
      "   [ 8.  4.]]\n",
      "\n",
      "  [[ 7.  9.]\n",
      "   [-1.  3.]]]]\n"
     ]
    }
   ],
   "source": [
    "import tensorflow as tf\n",
    "\n",
    "value3d=tf.constant(\n",
    "    [\n",
    "        # 第1个3行3列2深度的三维张量\n",
    "        [\n",
    "            [[2,5],[3,3],[8,2]],\n",
    "            [[6,1],[1,2],[5,4]],\n",
    "            [[7,9],[2,-3],[-1,3]]\n",
    "        ]\n",
    "    ]\n",
    "    ,tf.float32\n",
    ")\n",
    "\n",
    "\n",
    "# 2行2列2深度的池化掩码，在行方向上的移动步长为2，在列方向上的移动步长为2\n",
    "value3d_maxPool=tf.nn.max_pool(value3d,(1,2,2,1),[1,2,2,1],'SAME')\n",
    "\n",
    "session=tf.Session()\n",
    "\n",
    "print(session.run(value3d_maxPool))"
   ]
  },
  {
   "cell_type": "markdown",
   "metadata": {},
   "source": [
    "#### 3.多个三维张量的same最大值池化\n",
    "以2个深度为2的三维张量分别与2行2列的邻域掩码的same最大值池化操作，其沿行和沿列方向的移动步长为2"
   ]
  },
  {
   "cell_type": "code",
   "execution_count": 3,
   "metadata": {},
   "outputs": [
    {
     "name": "stdout",
     "output_type": "stream",
     "text": [
      "[[[[ 6.  5.]\n",
      "   [ 8.  4.]]\n",
      "\n",
      "  [[ 7.  9.]\n",
      "   [-1.  3.]]]\n",
      "\n",
      "\n",
      " [[[ 9.  4.]\n",
      "   [ 3.  3.]]\n",
      "\n",
      "  [[ 3.  6.]\n",
      "   [ 4.  2.]]]]\n"
     ]
    }
   ],
   "source": [
    "import tensorflow as tf\n",
    "\n",
    "value3d=tf.constant(\n",
    "    [\n",
    "        # 第1个3行3列2深度的三维张量\n",
    "        [\n",
    "            [[2,5],[3,3],[8,2]],\n",
    "            [[6,1],[1,2],[5,4]],\n",
    "            [[7,9],[2,-3],[-1,3]]\n",
    "        ],\n",
    "        # 第1个3行3列2深度的三维张量\n",
    "        [\n",
    "            [[1,4],[9,3],[1,1]],\n",
    "            [[1,1],[1,2],[3,3]],\n",
    "            [[2,1],[3,6],[4,2]]\n",
    "        ]\n",
    "    ]\n",
    "    ,tf.float32\n",
    ")\n",
    "\n",
    "\n",
    "# 2行2列2深度的池化掩码，在行方向上的移动步长为2，在列方向上的移动步长为2\n",
    "value3d_maxPool=tf.nn.max_pool(value3d,(1,2,2,1),[1,2,2,1],'SAME')\n",
    "\n",
    "session=tf.Session()\n",
    "\n",
    "print(session.run(value3d_maxPool))"
   ]
  },
  {
   "cell_type": "markdown",
   "metadata": {},
   "source": [
    "#### 4.same平均值池化\n",
    "Tensorflow通过函数tf.nn.avg_pool实现平均值池化，使用方法和函数tf.nn.max_pool类似，以上示例代码如下："
   ]
  },
  {
   "cell_type": "code",
   "execution_count": null,
   "metadata": {
    "collapsed": true
   },
   "outputs": [],
   "source": [
    "value3d_avgPool=tf.nn.avg_pool(value3d,(1,2,2,1),[1,2,2,1],'SAME')"
   ]
  },
  {
   "cell_type": "code",
   "execution_count": 4,
   "metadata": {},
   "outputs": [
    {
     "name": "stdout",
     "output_type": "stream",
     "text": [
      "[[[[ 3.    2.75]\n",
      "   [ 6.5   3.  ]]\n",
      "\n",
      "  [[ 4.5   3.  ]\n",
      "   [-1.    3.  ]]]]\n"
     ]
    }
   ],
   "source": [
    "import tensorflow as tf\n",
    "\n",
    "value3d=tf.constant(\n",
    "    [\n",
    "        # 第1个3行3列2深度的三维张量\n",
    "        [\n",
    "            [[2,5],[3,3],[8,2]],\n",
    "            [[6,1],[1,2],[5,4]],\n",
    "            [[7,9],[2,-3],[-1,3]]\n",
    "        ]\n",
    "    ]\n",
    "    ,tf.float32\n",
    ")\n",
    "\n",
    "\n",
    "# 2行2列2深度的池化掩码，在行方向上的移动步长为2，在列方向上的移动步长为2\n",
    "value3d_avgPool=tf.nn.avg_pool(value3d,(1,2,2,1),[1,2,2,1],'SAME')\n",
    "\n",
    "session=tf.Session()\n",
    "\n",
    "print(session.run(value3d_avgPool))"
   ]
  },
  {
   "cell_type": "markdown",
   "metadata": {},
   "source": [
    "### 二.valid池化\n",
    "valid池化与same池化的不同之处在于邻域掩码只在张量内移动"
   ]
  },
  {
   "cell_type": "markdown",
   "metadata": {},
   "source": [
    "#### 1.valid的最大值池化"
   ]
  },
  {
   "cell_type": "code",
   "execution_count": null,
   "metadata": {
    "collapsed": true
   },
   "outputs": [],
   "source": [
    "value3d_maxPool=tf.nn.max_pool(value3d,(1,2,2,1),[1,1,1,1],'VALID')"
   ]
  },
  {
   "cell_type": "markdown",
   "metadata": {},
   "source": [
    "#### 2.多深度张量的valid池化\n",
    "以3行3列2深度的三维张量和2行2列的邻域掩码的valid最大值池化为例"
   ]
  },
  {
   "cell_type": "code",
   "execution_count": 5,
   "metadata": {},
   "outputs": [
    {
     "name": "stdout",
     "output_type": "stream",
     "text": [
      "[[[[6. 5.]\n",
      "   [8. 4.]]\n",
      "\n",
      "  [[7. 9.]\n",
      "   [5. 4.]]]]\n"
     ]
    }
   ],
   "source": [
    "import tensorflow as tf\n",
    "\n",
    "value3d=tf.constant(\n",
    "    [\n",
    "        # 第1个3行3列2深度的三维张量\n",
    "        [\n",
    "            [[2,5],[3,3],[8,2]],\n",
    "            [[6,1],[1,2],[5,4]],\n",
    "            [[7,9],[2,-3],[-1,3]]\n",
    "        ]\n",
    "    ]\n",
    "    ,tf.float32\n",
    ")\n",
    "\n",
    "\n",
    "# 2行2列2深度的池化掩码，在行方向上的移动步长为1，在列方向上的移动步长为1\n",
    "value3d_maxPool=tf.nn.max_pool(value3d,(1,2,2,1),[1,1,1,1],'VALID')\n",
    "\n",
    "session=tf.Session()\n",
    "\n",
    "print(session.run(value3d_maxPool))"
   ]
  },
  {
   "cell_type": "markdown",
   "metadata": {},
   "source": [
    "#### 3.多个三维张量的valid池化"
   ]
  },
  {
   "cell_type": "code",
   "execution_count": 7,
   "metadata": {},
   "outputs": [
    {
     "name": "stdout",
     "output_type": "stream",
     "text": [
      "[[[[6. 5.]\n",
      "   [8. 4.]]\n",
      "\n",
      "  [[7. 9.]\n",
      "   [5. 4.]]]\n",
      "\n",
      "\n",
      " [[[9. 4.]\n",
      "   [9. 3.]]\n",
      "\n",
      "  [[3. 6.]\n",
      "   [4. 6.]]]]\n"
     ]
    }
   ],
   "source": [
    "import tensorflow as tf\n",
    "\n",
    "value3d=tf.constant(\n",
    "    [\n",
    "        # 第1个3行3列2深度的三维张量\n",
    "        [\n",
    "            [[2,5],[3,3],[8,2]],\n",
    "            [[6,1],[1,2],[5,4]],\n",
    "            [[7,9],[2,-3],[-1,3]]\n",
    "        ],\n",
    "        # 第1个3行3列2深度的三维张量\n",
    "        [\n",
    "            [[1,4],[9,3],[1,1]],\n",
    "            [[1,1],[1,2],[3,3]],\n",
    "            [[2,1],[3,6],[4,2]]\n",
    "        ]\n",
    "    ]\n",
    "    ,tf.float32\n",
    ")\n",
    "\n",
    "\n",
    "# 2行2列2深度的池化掩码，在行方向上的移动步长为2，在列方向上的移动步长为2\n",
    "value3d_maxPool=tf.nn.max_pool(value3d,(1,2,2,1),[1,1,1,1],'VALID')\n",
    "\n",
    "session=tf.Session()\n",
    "\n",
    "print(session.run(value3d_maxPool))"
   ]
  }
 ],
 "metadata": {
  "kernelspec": {
   "display_name": "Python 3",
   "language": "python",
   "name": "python3"
  },
  "language_info": {
   "codemirror_mode": {
    "name": "ipython",
    "version": 3
   },
   "file_extension": ".py",
   "mimetype": "text/x-python",
   "name": "python",
   "nbconvert_exporter": "python",
   "pygments_lexer": "ipython3",
   "version": "3.6.8"
  }
 },
 "nbformat": 4,
 "nbformat_minor": 2
}
