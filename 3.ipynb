{
 "cells": [
  {
   "cell_type": "markdown",
   "metadata": {},
   "source": [
    "# Tensorflow--梯度\n",
    "### 梯度\n",
    "Tensorflow通过函数gradients(ys,xs,grad_ys=None,name=\"gradients\")实现自动计算梯度，代码如下："
   ]
  },
  {
   "cell_type": "code",
   "execution_count": 3,
   "metadata": {},
   "outputs": [
    {
     "name": "stdout",
     "output_type": "stream",
     "text": [
      "[array([[ 108.],\n",
      "       [ 144.]], dtype=float32)]\n"
     ]
    }
   ],
   "source": [
    "import tensorflow as tf\n",
    "import numpy as np\n",
    "\n",
    "x=tf.placeholder(tf.float32,(2,1))\n",
    "\n",
    "w=tf.constant([[3,4]],tf.float32)\n",
    "y=tf.matmul(w,x)\n",
    "\n",
    "F=tf.pow(y,2)\n",
    "\n",
    "grades=tf.gradients(F,x)\n",
    "session=tf.Session()\n",
    "\n",
    "print(session.run(grades,{x:np.array([[2],[3]])}))\n"
   ]
  },
  {
   "cell_type": "markdown",
   "metadata": {},
   "source": [
    "### 导数计算的链式法则\n",
    "#### 梯度下降法\n",
    "#### 一元函数的梯度下降法\n",
    "梯度下降法是求解凸函数无约束最优化问题常用的方法，其中η常称为学习率\n",
    "求：f(x)=(x-1)^2的最小值点\n",
    "\n",
    "初始化：x1=4,η=0.25\n",
    "第一次迭代：x2=x1-ηf(x1)=4-0.25*2*(4-1)=2.5\n",
    "第二次迭代：x3=x2-ηf(x2)=2.5-0.25*2*(2.5-1)=1.75\n",
    "第三次迭代：x4=x3-ηf(x3)=1.75-0.25*2*(1.75-1)=1.375"
   ]
  },
  {
   "cell_type": "markdown",
   "metadata": {},
   "source": [
    "Tensorflow通过函数tf.train.GradientDescentOptimizer(learning_rate,use_locking=False,name=\"GradientDescent\")实现以上梯度下降法，利用该函数实现以上示例的迭代过程"
   ]
  },
  {
   "cell_type": "code",
   "execution_count": 4,
   "metadata": {},
   "outputs": [
    {
     "name": "stdout",
     "output_type": "stream",
     "text": [
      "2.5\n",
      "1.75\n",
      "1.375\n"
     ]
    }
   ],
   "source": [
    "import tensorflow as tf\n",
    "\n",
    "x=tf.Variable(4.0,dtype=tf.float32)\n",
    "\n",
    "y=tf.pow(x-1,2.0)\n",
    "\n",
    "# 梯度下降，学习率设置为0.25\n",
    "opti=tf.train.GradientDescentOptimizer(0.25).minimize(y)\n",
    "\n",
    "session=tf.Session()\n",
    "session.run(tf.global_variables_initializer())\n",
    "\n",
    "# 三次迭代\n",
    "for i in range(3):\n",
    "    session.run(opti)\n",
    "    \n",
    "    print(session.run(x))\n",
    "    \n",
    "    "
   ]
  },
  {
   "cell_type": "markdown",
   "metadata": {},
   "source": [
    "其中学习率η=0.25设置得比较大，最好设置得小一点，否则会在最小值附近震荡，稍微修改以上程序，令学习率η=0.05，迭代100次，每次打印当前寻找的点"
   ]
  },
  {
   "cell_type": "code",
   "execution_count": 5,
   "metadata": {},
   "outputs": [
    {
     "name": "stdout",
     "output_type": "stream",
     "text": [
      "第1次的x的迭代值：13.600000\n",
      "第11次的x的迭代值：5.393349\n",
      "第21次的x的迭代值：2.531866\n",
      "第31次的x的迭代值：1.534129\n",
      "第41次的x的迭代值：1.186239\n",
      "第51次的x的迭代值：1.064938\n",
      "第61次的x的迭代值：1.022642\n",
      "第71次的x的迭代值：1.007895\n",
      "第81次的x的迭代值：1.002753\n",
      "第91次的x的迭代值：1.000960\n"
     ]
    },
    {
     "data": {
      "image/png": "[encoded data removed]",
      "text/plain": [
       "<Figure size 432x288 with 1 Axes>"
      ]
     },
     "metadata": {},
     "output_type": "display_data"
    }
   ],
   "source": [
    "import tensorflow as tf\n",
    "import matplotlib.pyplot as plt\n",
    "import numpy as np\n",
    "import math\n",
    "\n",
    "x=tf.Variable(15.0,dtype=tf.float32)\n",
    "\n",
    "y=tf.pow(x-1,2.0)\n",
    "\n",
    "opti=tf.train.GradientDescentOptimizer(0.05).minimize(y)\n",
    "\n",
    "value=np.arange(-15,17,0.01)\n",
    "\n",
    "y_value=np.power(value-1,2.0)\n",
    "plt.plot(value,y_value)\n",
    "\n",
    "session=tf.Session()\n",
    "session.run(tf.global_variables_initializer())\n",
    "\n",
    "for i in range(100):\n",
    "    session.run(opti)\n",
    "    \n",
    "    if(i%10==0):\n",
    "        v=session.run(x)\n",
    "        plt.plot(v,math.pow(v-1,2.0),\"go\")\n",
    "        print(\"第%d次的x的迭代值：%f\"%(i+1,v))\n",
    "        \n",
    "plt.show()"
   ]
  },
  {
   "cell_type": "markdown",
   "metadata": {},
   "source": [
    "#### 多元函数的梯度下降法\n",
    "f(x1,x2)=x1^2+x2^2"
   ]
  },
  {
   "cell_type": "code",
   "execution_count": 8,
   "metadata": {},
   "outputs": [
    {
     "name": "stdout",
     "output_type": "stream",
     "text": [
      "(-2.0, 2.0)\n",
      "(-1.0, 1.0)\n"
     ]
    }
   ],
   "source": [
    "import tensorflow as tf\n",
    "\n",
    "x1=tf.Variable(-4.0,dtype=tf.float32)\n",
    "x2=tf.Variable(4.0,dtype=tf.float32)\n",
    "\n",
    "y=tf.square(x1)+tf.square(x2)\n",
    "\n",
    "session=tf.Session()\n",
    "session.run(tf.global_variables_initializer())\n",
    "\n",
    "opti=tf.train.GradientDescentOptimizer(0.25).minimize(y)\n",
    "\n",
    "for i in range(2):\n",
    "    session.run(opti)\n",
    "    \n",
    "    print((session.run(x1),session.run(x2)))"
   ]
  },
  {
   "cell_type": "markdown",
   "metadata": {},
   "source": [
    "#### 采用矩阵的形式组织变量"
   ]
  },
  {
   "cell_type": "code",
   "execution_count": 10,
   "metadata": {},
   "outputs": [
    {
     "name": "stdout",
     "output_type": "stream",
     "text": [
      "[-2.  2.]\n",
      "[-1.  1.]\n"
     ]
    }
   ],
   "source": [
    "import tensorflow as tf\n",
    "\n",
    "x=tf.Variable(tf.constant([-4,4],tf.float32),tf.float32)\n",
    "\n",
    "y=tf.reduce_sum(tf.square(x))\n",
    "\n",
    "session=tf.Session()\n",
    "session.run(tf.global_variables_initializer())\n",
    "\n",
    "opti=tf.train.GradientDescentOptimizer(0.25).minimize(y)\n",
    "\n",
    "for i in range(2):\n",
    "    session.run(opti)\n",
    "    \n",
    "    print(session.run(x))"
   ]
  },
  {
   "cell_type": "markdown",
   "metadata": {},
   "source": [
    "利用Tensorflow对某一函数进行梯度下降，主要分为如下三步：\n",
    "1.利用Variable类初始化自变量的值\n",
    "2.构造出函数\n",
    "3.利用函数GradientDescentOptimizer进行梯度下降法操作"
   ]
  },
  {
   "cell_type": "markdown",
   "metadata": {},
   "source": [
    "### 梯度下降法\n",
    "#### Adagrad法\n",
    "f(x1,x2)=x1^2+2*x2^2"
   ]
  },
  {
   "cell_type": "markdown",
   "metadata": {},
   "source": [
    "Tensorflow通过函数tf.train.AdagradOptimizer(learning_rate=0.001,initial_accumulator_value=0.1)实现Adagrad梯度下降"
   ]
  },
  {
   "cell_type": "code",
   "execution_count": 11,
   "metadata": {},
   "outputs": [
    {
     "name": "stdout",
     "output_type": "stream",
     "text": [
      "[[ 3.75019503]\n",
      " [ 2.75008678]]\n",
      "[[ 3.57927608]\n",
      " [ 2.58118463]]\n",
      "[[ 3.4426589 ]\n",
      " [ 2.44730377]]\n"
     ]
    }
   ],
   "source": [
    "import tensorflow as tf\n",
    "\n",
    "x=tf.Variable(tf.constant([[4],[3]],tf.float32),dtype=tf.float32)\n",
    "\n",
    "w=tf.constant([[1,2]],tf.float32)\n",
    "y=tf.reduce_sum(tf.matmul(w,tf.square(x)))\n",
    "\n",
    "opti=tf.train.AdagradOptimizer(0.25,0.1).minimize(y)\n",
    "\n",
    "session=tf.Session()\n",
    "init=tf.global_variables_initializer()\n",
    "session.run(init)\n",
    "\n",
    "for i in range(3):\n",
    "    session.run(opti)\n",
    "    \n",
    "    print(session.run(x))"
   ]
  },
  {
   "cell_type": "code",
   "execution_count": 4,
   "metadata": {},
   "outputs": [
    {
     "name": "stdout",
     "output_type": "stream",
     "text": [
      "[[ 3.62800765]\n",
      " [ 2.6001389 ]]\n",
      "[[ 3.37010479]\n",
      " [ 2.33821058]]\n",
      "[[ 3.1645782 ]\n",
      " [ 2.13524342]]\n"
     ]
    },
    {
     "data": {
      "image/png": "[encoded data removed]",
      "text/plain": [
       "<Figure size 432x288 with 1 Axes>"
      ]
     },
     "metadata": {},
     "output_type": "display_data"
    }
   ],
   "source": [
    "# -*- coding:utf-8 -*-\n",
    "import tensorflow as tf\n",
    "import matplotlib.pyplot as plt\n",
    "import numpy as np\n",
    "import math\n",
    "\n",
    "# 初始化变量x的值\n",
    "x=tf.Variable(tf.constant([[4],[3]],tf.float32),dtype=tf.float32)\n",
    "w=tf.constant([[0.1,2]],tf.float32)\n",
    "y=tf.reduce_sum(tf.matmul(w,tf.square(x)))\n",
    "\n",
    "value1=np.arange(-10,10,0.1)\n",
    "value2=np.arange(-10,10,0.1)\n",
    "y_value=0.1*np.power(value1,2.0)+2.0*np.power(value2,2.0)\n",
    "plt.plot(value1,)\n",
    "\n",
    "# Adagrad梯度下降\n",
    "opti=tf.train.AdagradOptimizer(0.4,0.1).minimize(y)\n",
    "session=tf.Session()\n",
    "init=tf.global_variables_initializer()\n",
    "session.run(init)\n",
    "\n",
    "for i in range(3):\n",
    "    session.run(opti)\n",
    "    print(session.run(x))\n",
    "    \n",
    "plt.show()"
   ]
  },
  {
   "cell_type": "markdown",
   "metadata": {},
   "source": [
    "#### Momentum法"
   ]
  },
  {
   "cell_type": "code",
   "execution_count": 12,
   "metadata": {},
   "outputs": [
    {
     "name": "stdout",
     "output_type": "stream",
     "text": [
      "[[ 3.92000008]\n",
      " [ 2.88000011]]\n",
      "[[ 3.76960015]\n",
      " [ 2.65680003]]\n"
     ]
    }
   ],
   "source": [
    "import tensorflow as tf\n",
    "\n",
    "x=tf.Variable(tf.constant([[4],[3]],tf.float32),dtype=tf.float32)\n",
    "\n",
    "w=tf.constant([[1,2]],tf.float32)\n",
    "y=tf.reduce_sum(tf.matmul(w,tf.square(x)))\n",
    "\n",
    "opti=tf.train.MomentumOptimizer(0.01,0.9).minimize(y)\n",
    "\n",
    "session=tf.Session()\n",
    "init=tf.global_variables_initializer()\n",
    "session.run(init)\n",
    "\n",
    "for i in range(2):\n",
    "    session.run(opti)\n",
    "    \n",
    "    print(session.run(x))"
   ]
  },
  {
   "cell_type": "markdown",
   "metadata": {
    "collapsed": true
   },
   "source": [
    "#### NAG法"
   ]
  },
  {
   "cell_type": "code",
   "execution_count": null,
   "metadata": {
    "collapsed": true
   },
   "outputs": [],
   "source": [
    "Tensorflow通过函数MomentumOptimizer实现Momentum法，该函数中有一个参数use_nesterov，只要将该参数设置为True，就是Tensorflow实现的NAG法"
   ]
  },
  {
   "cell_type": "code",
   "execution_count": 13,
   "metadata": {},
   "outputs": [
    {
     "name": "stdout",
     "output_type": "stream",
     "text": [
      "[[ 3.84800005]\n",
      " [ 2.77200007]]\n",
      "[[ 3.636976  ]\n",
      " [ 2.46412802]]\n"
     ]
    }
   ],
   "source": [
    "import tensorflow as tf\n",
    "\n",
    "x=tf.Variable(tf.constant([[4],[3]],tf.float32),dtype=tf.float32)\n",
    "\n",
    "w=tf.constant([[1,2]],tf.float32)\n",
    "y=tf.reduce_sum(tf.matmul(w,tf.square(x)))\n",
    "\n",
    "opti=tf.train.MomentumOptimizer(0.01,0.9,use_nesterov=True).minimize(y)\n",
    "\n",
    "session=tf.Session()\n",
    "init=tf.global_variables_initializer()\n",
    "session.run(init)\n",
    "\n",
    "for i in range(2):\n",
    "    session.run(opti)\n",
    "    \n",
    "    print(session.run(x))"
   ]
  },
  {
   "cell_type": "markdown",
   "metadata": {},
   "source": [
    "#### RMSprop法\n",
    "Tensorflow的实现代码如下："
   ]
  },
  {
   "cell_type": "code",
   "execution_count": null,
   "metadata": {
    "collapsed": true
   },
   "outputs": [],
   "source": [
    "opti=tf.train.RMSPropOptimizer(learning_rate=0.01,decay=0.9,epsilon=1e-10).minimize(y)"
   ]
  },
  {
   "cell_type": "code",
   "execution_count": 17,
   "metadata": {},
   "outputs": [
    {
     "name": "stdout",
     "output_type": "stream",
     "text": [
      "[[ 3.97039056]\n",
      " [ 2.96932149]]\n",
      "[[ 3.94826055]\n",
      " [ 2.94682598]]\n"
     ]
    }
   ],
   "source": [
    "import tensorflow as tf\n",
    "\n",
    "x=tf.Variable(tf.constant([[4],[3]],tf.float32),dtype=tf.float32)\n",
    "\n",
    "w=tf.constant([[1,2]],tf.float32)\n",
    "y=tf.reduce_sum(tf.matmul(w,tf.square(x)))\n",
    "\n",
    "opti=tf.train.RMSPropOptimizer(learning_rate=0.01,decay=0.9,epsilon=1e-10).minimize(y)\n",
    "\n",
    "session=tf.Session()\n",
    "init=tf.global_variables_initializer()\n",
    "session.run(init)\n",
    "\n",
    "for i in range(2):\n",
    "    session.run(opti)\n",
    "    \n",
    "    print(session.run(x))"
   ]
  },
  {
   "cell_type": "markdown",
   "metadata": {},
   "source": [
    "#### 具备动量的RMSprop法是RMSprop和Momentum结合的方法\n",
    "Tensorflow的实现代码如下："
   ]
  },
  {
   "cell_type": "code",
   "execution_count": null,
   "metadata": {
    "collapsed": true
   },
   "outputs": [],
   "source": [
    "tf.train.RMSPropOptimizer(learning_rate=0.01,decay=0.9,momentum=0.9,epsilon=1e-10).minimize(y)"
   ]
  },
  {
   "cell_type": "code",
   "execution_count": 20,
   "metadata": {},
   "outputs": [
    {
     "name": "stdout",
     "output_type": "stream",
     "text": [
      "[[ 3.97039056]\n",
      " [ 2.96932149]]\n",
      "[[ 3.92161226]\n",
      " [ 2.91921544]]\n"
     ]
    }
   ],
   "source": [
    "import tensorflow as tf\n",
    "\n",
    "x=tf.Variable(tf.constant([[4],[3]],tf.float32),dtype=tf.float32)\n",
    "\n",
    "w=tf.constant([[1,2]],tf.float32)\n",
    "y=tf.reduce_sum(tf.matmul(w,tf.square(x)))\n",
    "\n",
    "opti=tf.train.RMSPropOptimizer(learning_rate=0.01,decay=0.9,momentum=0.9,epsilon=1e-10).minimize(y)\n",
    "\n",
    "session=tf.Session()\n",
    "init=tf.global_variables_initializer()\n",
    "session.run(init)\n",
    "\n",
    "for i in range(2):\n",
    "    session.run(opti)\n",
    "    \n",
    "    print(session.run(x))"
   ]
  },
  {
   "cell_type": "markdown",
   "metadata": {},
   "source": [
    "#### Adadelta法\n",
    "Tensorflow通过函数："
   ]
  },
  {
   "cell_type": "code",
   "execution_count": null,
   "metadata": {
    "collapsed": true
   },
   "outputs": [],
   "source": [
    "tf.train.AdadeltaOptimizer(learning_rate=0.001,rho=0.95,epsilon=1e-8).minimize(y)"
   ]
  },
  {
   "cell_type": "code",
   "execution_count": 21,
   "metadata": {},
   "outputs": [
    {
     "name": "stdout",
     "output_type": "stream",
     "text": [
      "[[ 3.99999928]\n",
      " [ 2.99999928]]\n",
      "[[ 3.99999881]\n",
      " [ 2.99999881]]\n"
     ]
    }
   ],
   "source": [
    "import tensorflow as tf\n",
    "\n",
    "x=tf.Variable(tf.constant([[4],[3]],tf.float32),dtype=tf.float32)\n",
    "\n",
    "w=tf.constant([[1,2]],tf.float32)\n",
    "y=tf.reduce_sum(tf.matmul(w,tf.square(x)))\n",
    "\n",
    "opti=tf.train.AdadeltaOptimizer(learning_rate=0.001,rho=0.95,epsilon=1e-8).minimize(y)\n",
    "\n",
    "session=tf.Session()\n",
    "init=tf.global_variables_initializer()\n",
    "session.run(init)\n",
    "\n",
    "for i in range(2):\n",
    "    session.run(opti)\n",
    "    \n",
    "    print(session.run(x))"
   ]
  },
  {
   "cell_type": "markdown",
   "metadata": {},
   "source": [
    "#### Adam法"
   ]
  },
  {
   "cell_type": "code",
   "execution_count": null,
   "metadata": {
    "collapsed": true
   },
   "outputs": [],
   "source": [
    "tf.train.AdamOptimizer(learning_rate=0.001,beta1=0.9,beta2=0.999,epsilon=1e-8)"
   ]
  },
  {
   "cell_type": "code",
   "execution_count": 22,
   "metadata": {},
   "outputs": [
    {
     "name": "stdout",
     "output_type": "stream",
     "text": [
      "[[ 3.99900007]\n",
      " [ 2.99900007]]\n",
      "[[ 3.99800014]\n",
      " [ 2.99800014]]\n"
     ]
    }
   ],
   "source": [
    "import tensorflow as tf\n",
    "\n",
    "x=tf.Variable(tf.constant([[4],[3]],tf.float32),dtype=tf.float32)\n",
    "\n",
    "w=tf.constant([[1,2]],tf.float32)\n",
    "y=tf.reduce_sum(tf.matmul(w,tf.square(x)))\n",
    "\n",
    "opti=tf.train.AdamOptimizer(learning_rate=0.001,beta1=0.9,beta2=0.999,epsilon=1e-8).minimize(y)\n",
    "\n",
    "session=tf.Session()\n",
    "init=tf.global_variables_initializer()\n",
    "session.run(init)\n",
    "\n",
    "for i in range(2):\n",
    "    session.run(opti)\n",
    "    \n",
    "    print(session.run(x))"
   ]
  }
 ],
 "metadata": {
  "kernelspec": {
   "display_name": "Python 3",
   "language": "python",
   "name": "python3"
  },
  "language_info": {
   "codemirror_mode": {
    "name": "ipython",
    "version": 3
   },
   "file_extension": ".py",
   "mimetype": "text/x-python",
   "name": "python",
   "nbconvert_exporter": "python",
   "pygments_lexer": "ipython3",
   "version": "3.6.8"
  }
 },
 "nbformat": 4,
 "nbformat_minor": 2
}
